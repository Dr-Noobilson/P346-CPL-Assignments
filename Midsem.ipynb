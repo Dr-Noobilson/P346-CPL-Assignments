{
 "cells": [
  {
   "cell_type": "code",
   "execution_count": 1,
   "metadata": {},
   "outputs": [],
   "source": [
    "import math\n",
    "import numpy as np\n",
    "\n",
    "import Library.Midsem as t1\n",
    "from Library.Assign4 import NewtonR #Importing Newton Raphson from Assign4.py module\n",
    "from Library.Assign3 import GS,chelk #Imposting Guass-Seidel and chelosky from Assign3.py module\n",
    "import Library.Class6 as t2\n",
    "\n",
    "file= open('msem_gs.txt')\n",
    "inp= file.readlines()  #Reading data from input file into array inp"
   ]
  },
  {
   "cell_type": "markdown",
   "metadata": {},
   "source": [
    "Question 1: Area of ellipse"
   ]
  },
  {
   "cell_type": "code",
   "execution_count": 2,
   "metadata": {},
   "outputs": [
    {
     "name": "stdout",
     "output_type": "stream",
     "text": [
      "Area of ellispe: 6.2952\n",
      "Error: 0.19 %\n",
      "\n"
     ]
    }
   ],
   "source": [
    "t1.ellipse(0.1,0.03,100000)"
   ]
  },
  {
   "cell_type": "markdown",
   "metadata": {},
   "source": [
    "Question 2: Wein’s displacement law states that black body radiation for different tempera-tures peak at different wavelengths (λm) that are inversely proportional to the"
   ]
  },
  {
   "cell_type": "code",
   "execution_count": 3,
   "metadata": {},
   "outputs": [
    {
     "name": "stdout",
     "output_type": "stream",
     "text": [
      "Root: 4.96511423174643 , Value: 2.978897128969038e-10 \n",
      "Iteration: 3 \n",
      "\n",
      "Wein's constant b: 28.99 * 10^(-4)\n"
     ]
    }
   ],
   "source": [
    "def fun1(x): \n",
    "    k=(x-5)*math.exp(x)+5\n",
    "    return k\n",
    "\n",
    "def fun2(x): #Differentiation of fun1\n",
    "    k=(x-4)*math.exp(x)\n",
    "    return k\n",
    "\n",
    "t1.Wein(NewtonR(5,fun1,fun2,4),2) #4 precision"
   ]
  },
  {
   "cell_type": "markdown",
   "metadata": {},
   "source": [
    "Question 3: Solve the linear system of equation A x = b, where A and b are given in the file msem_gs.txt using Gauss-Seidel iterative methods to a precision of 10−6"
   ]
  },
  {
   "cell_type": "code",
   "execution_count": 4,
   "metadata": {},
   "outputs": [
    {
     "name": "stdout",
     "output_type": "stream",
     "text": [
      "\n",
      "Guass-Seidal:\n",
      "Number of iterations: 13 \n",
      "Solution matrix X:\n",
      "\n",
      "1.4999998297596435\n",
      "-0.4999999999999992\n",
      "1.9999999999999998\n",
      "-2.499999914864037\n",
      "1.0000000000000004\n",
      "-0.9999999999957907\n"
     ]
    }
   ],
   "source": [
    "A= [[float(n) for n in inp[i].split('    ')] for i in range(1,7)]\n",
    "B= [[float(n) for n in inp[i].split('    ')] for i in range(9,15)]\n",
    "print(\"\\nGuass-Seidal:\")\n",
    "GS(A,B,6) #Precision 6, max iterations= 300"
   ]
  },
  {
   "cell_type": "markdown",
   "metadata": {},
   "source": [
    "Question 4: Fit the data given in msem fit.txt with power law y = a*(x^b) and exponential y = a*exp(−bx) models. And determine the better bit from r^2."
   ]
  },
  {
   "cell_type": "code",
   "execution_count": 5,
   "metadata": {},
   "outputs": [
    {
     "name": "stdout",
     "output_type": "stream",
     "text": [
      "\n",
      "Error (a1): 1.0843187787790949 \n",
      "Error (a2): 0.22311347707717552\n",
      "r^2: 0.7750435352872259\n",
      "\n",
      "Solution Matrix for the coeffiecients: \n",
      "3.0467\n",
      "-0.5374\n",
      "\n",
      "a=  21.045778632630523\n",
      "\n",
      "b=  -0.5374 \n",
      "\n"
     ]
    },
    {
     "data": {
      "image/png": "[encoded data removed]",
      "text/plain": [
       "<Figure size 432x288 with 1 Axes>"
      ]
     },
     "metadata": {
      "needs_background": "light"
     },
     "output_type": "display_data"
    }
   ],
   "source": [
    "file2= open('msem_fit.txt')\n",
    "inp= file2.readlines()  #Reading data from input file into array inp\n",
    "\n",
    "A= [[math.log(float(inp[i].split(' ')[0]))] for i in range(0,10)] #A stores the logarithmic values for x values in data\n",
    "B= [[math.log(float(inp[i].split(' ')[1]))] for i in range(0,10)] #B stores the logarithmic values for y values in data\n",
    "M= [[float(inp[i].split(' ')[0])] for i in range(0,10)] \n",
    "N= [[float(inp[i].split(' ')[1])] for i in range(0,10)] \n",
    "\n",
    "\n",
    "#Fitting in y=a(x^b)\n",
    "C,D=t2.Fit(A,B,2) #Fit function from Class6.py module\n",
    "\n",
    "print(\"Solution Matrix for the coeffiecients: \")\n",
    "D=chelk(C,D,4) #Chelosky decomposition to solve C,D\n",
    "\n",
    "#Printing coefficients\n",
    "print(\"\\na= \",math.exp(D[0][0]))\n",
    "print(\"\\nb= \",D[1][0],\"\\n\")\n",
    "\n",
    "def func3(x,D): return math.exp(D[0][0])*(x**(D[1][0])) #Converting the straight line function into its original form\n",
    "\n",
    "t2.FitPlot(M,N,2,25,func3,D)\n"
   ]
  },
  {
   "cell_type": "code",
   "execution_count": 6,
   "metadata": {},
   "outputs": [
    {
     "name": "stdout",
     "output_type": "stream",
     "text": [
      "\n",
      "Error (a1): 0.3911208151382824 \n",
      "Error (a2): 0.002911208151382824\n",
      "r^2: 0.5762426888065756\n",
      "\n",
      "Solution Matrix for the coeffiecients: \n",
      "2.503\n",
      "-0.0585\n",
      "\n",
      "a=  12.219096318670772\n",
      "\n",
      "b=  0.0585 \n",
      "\n"
     ]
    },
    {
     "data": {
      "image/png": "[encoded data removed]",
      "text/plain": [
       "<Figure size 432x288 with 1 Axes>"
      ]
     },
     "metadata": {
      "needs_background": "light"
     },
     "output_type": "display_data"
    }
   ],
   "source": [
    "#Fitting in y=a(e^(-xb))\n",
    "C,D=t2.Fit(M,B,2) #Fit function from Class6.py module\n",
    "print(\"Solution Matrix for the coeffiecients: \")\n",
    "D=chelk(C,D,4) #Chelosky decomposition to solve C,D\n",
    "\n",
    "#Printing coefficients\n",
    "print(\"\\na= \",math.exp(D[0][0]))\n",
    "print(\"\\nb= \",-D[1][0],\"\\n\")\n",
    "\n",
    "def func4(x,D): return math.exp(D[0][0])*np.exp(x*D[1][0]) #Converting the straight line function into its original form\n",
    "\n",
    "t2.FitPlot(M,N,2,25,func4,D)"
   ]
  },
  {
   "cell_type": "markdown",
   "metadata": {},
   "source": [
    "Comparing values of r^2 of the two functions we see that function 1 is a better fit since r^2 for it is closer to 1 than for function 2"
   ]
  }
 ],
 "metadata": {
  "kernelspec": {
   "display_name": "Python 3.9.3 64-bit",
   "language": "python",
   "name": "python3"
  },
  "language_info": {
   "codemirror_mode": {
    "name": "ipython",
    "version": 3
   },
   "file_extension": ".py",
   "mimetype": "text/x-python",
   "name": "python",
   "nbconvert_exporter": "python",
   "pygments_lexer": "ipython3",
   "version": "3.9.3"
  },
  "orig_nbformat": 4,
  "vscode": {
   "interpreter": {
    "hash": "b7b49a38ea19a84790019c52b75c422fbbb0ad7042f247802e29ffad49c98c26"
   }
  }
 },
 "nbformat": 4,
 "nbformat_minor": 2
}

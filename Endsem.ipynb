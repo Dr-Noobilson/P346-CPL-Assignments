{
 "cells": [
  {
   "cell_type": "code",
   "execution_count": 1,
   "metadata": {},
   "outputs": [],
   "source": [
    "import Library.Endsem as t1\n",
    "from Library.Assign6 import powriter\n",
    "from Library.Assign5 import simp\n",
    "from Library.Assign4 import Fit,FitPlot\n",
    "from Library.Assign3 import chelk #Importing chelosky from Assign3.py module\n",
    "import math\n",
    "import matplotlib.pyplot as plt\n",
    "import numpy as np"
   ]
  },
  {
   "cell_type": "markdown",
   "metadata": {},
   "source": [
    "Question 1:"
   ]
  },
  {
   "cell_type": "code",
   "execution_count": 2,
   "metadata": {},
   "outputs": [
    {
     "name": "stdout",
     "output_type": "stream",
     "text": [
      "\n",
      "LU Decomposition:\n",
      "\n",
      " Solution matrix X: \n",
      "\n",
      "-0.736  2.511  2.423  0.959  -3.921\n",
      "-0.195  0.309  0.279  0.057  -0.295\n",
      "0.021  0.365  0.286  0.05  -0.29\n",
      "0.273  -0.131  0.131  -0.142  0.448\n",
      "0.781  -2.876  -2.679  -0.702  4.233\n"
     ]
    }
   ],
   "source": [
    "A=[[0.2,-5,3,0.4,0],[-0.5,1,7,-2,0.3],[0.6,2,-4,3,0.1],[3,0.8,2,-0.4,3],[0.5,3,2,0.4,1]]\n",
    "B=[[1,0,0,0,0],[0,1,0,0,0],[0,0,1,0,0],[0,0,0,1,0],[0,0,0,0,1]]\n",
    "\n",
    "print(\"\\nLU Decomposition:\")\n",
    "C=t1.LUD(A,B,3) #Precision 3\n"
   ]
  },
  {
   "cell_type": "markdown",
   "metadata": {},
   "source": [
    "Question 2:"
   ]
  },
  {
   "cell_type": "code",
   "execution_count": 3,
   "metadata": {},
   "outputs": [
    {
     "name": "stdout",
     "output_type": "stream",
     "text": [
      "At time: 1000.1 \n",
      "Number of particles on left side = 2531 \n",
      "Number of Particles on right side = 2469\n"
     ]
    },
    {
     "data": {
      "image/png": "[encoded data removed]",
      "text/plain": [
       "<Figure size 432x288 with 1 Axes>"
      ]
     },
     "metadata": {
      "needs_background": "light"
     },
     "output_type": "display_data"
    }
   ],
   "source": [
    "t1.equi(5000,1000,0.1,0.5)"
   ]
  },
  {
   "cell_type": "markdown",
   "metadata": {},
   "source": [
    "Question 3:"
   ]
  },
  {
   "cell_type": "code",
   "execution_count": 4,
   "metadata": {},
   "outputs": [
    {
     "name": "stdout",
     "output_type": "stream",
     "text": [
      "The spring can be stretched up till x = 2.36 m \n",
      "Iterations = 14\n"
     ]
    }
   ],
   "source": [
    "def f1(x):\n",
    "    return 25-x*np.exp(x)\n",
    "\n",
    "def f2(x):\n",
    "    return np.exp(x)*(-1-x)\n",
    "\n",
    "a,c=t1.NewtonR(0.5,f1,f2,1e-3) #1e-3 is the tolerance\n",
    "\n",
    "print(\"The spring can be stretched up till x =\",a,\"m \\nIterations =\",c)"
   ]
  },
  {
   "cell_type": "markdown",
   "metadata": {},
   "source": [
    "Question 4:"
   ]
  },
  {
   "cell_type": "code",
   "execution_count": 5,
   "metadata": {},
   "outputs": [
    {
     "name": "stdout",
     "output_type": "stream",
     "text": [
      "T = 1.11 s\n"
     ]
    }
   ],
   "source": [
    "def fx(x):\n",
    "    return 2*math.sqrt(1/9.8)/np.cos(x/2)\n",
    "\n",
    "print(\"T =\",t1.truncate(simp(fx,0,np.pi/2,10),2),\"s\")"
   ]
  },
  {
   "cell_type": "markdown",
   "metadata": {},
   "source": [
    "Question 5:"
   ]
  },
  {
   "cell_type": "code",
   "execution_count": 6,
   "metadata": {},
   "outputs": [
    {
     "name": "stdout",
     "output_type": "stream",
     "text": [
      "Maximum height reached is: 4.9825 units\n",
      "Velocity at maximum height: 0.0006 units\n"
     ]
    },
    {
     "data": {
      "text/plain": [
       "Text(0, 0.5, 'velocity v')"
      ]
     },
     "execution_count": 6,
     "metadata": {},
     "output_type": "execute_result"
    },
    {
     "data": {
      "image/png": "[encoded data removed]",
      "text/plain": [
       "<Figure size 432x288 with 1 Axes>"
      ]
     },
     "metadata": {
      "needs_background": "light"
     },
     "output_type": "display_data"
    }
   ],
   "source": [
    "def f3(v,y):\n",
    "    return -0.02-10/v\n",
    "\n",
    "C,D=t1.RK4(0,10,f3,0.0001,5,0.001) #0.001 is the tolerance level for minimum velocity\n",
    "plt.plot(C,D)\n",
    "plt.grid()\n",
    "plt.xlabel(\"height y\")\n",
    "plt.ylabel(\"velocity v\")"
   ]
  },
  {
   "cell_type": "markdown",
   "metadata": {},
   "source": [
    "Question 6:"
   ]
  },
  {
   "cell_type": "code",
   "execution_count": 7,
   "metadata": {},
   "outputs": [
    {
     "name": "stdout",
     "output_type": "stream",
     "text": [
      "Eigenvalue: 7.999 , Iterations:  11 \n",
      "\n",
      "Eigenket:\n"
     ]
    },
    {
     "data": {
      "text/plain": [
       "[[-0.198], [0.693], [0.693], [0.0]]"
      ]
     },
     "execution_count": 7,
     "metadata": {},
     "output_type": "execute_result"
    }
   ],
   "source": [
    "A=[[1,-2,0,5],[0,7,1,5],[0,4,4,0],[0,0,0,2]]\n",
    "\n",
    "#Guess vector\n",
    "x0=[[1],[0.5],[1],[1.5]]\n",
    "\n",
    "powriter(A,x0,1e-3) #Precision 3"
   ]
  },
  {
   "cell_type": "markdown",
   "metadata": {},
   "source": [
    "Question 7:"
   ]
  },
  {
   "cell_type": "code",
   "execution_count": 8,
   "metadata": {},
   "outputs": [
    {
     "name": "stdout",
     "output_type": "stream",
     "text": [
      "\n",
      "Solution Matrix for the coefficients given in order [[a0],[a1],[a2],[a3],[a4]]: \n",
      "0.2546295072115473\n",
      "-1.1937592138092263\n",
      "-0.45725541238296735\n",
      "-0.8025653910658191\n",
      "0.013239427477396109\n"
     ]
    },
    {
     "data": {
      "image/png": "[encoded data removed]",
      "text/plain": [
       "<Figure size 432x288 with 1 Axes>"
      ]
     },
     "metadata": {
      "needs_background": "light"
     },
     "output_type": "display_data"
    }
   ],
   "source": [
    "file= open('esem4fit.txt')\n",
    "inp= file.readlines()  #Reading data from input file into array inp\n",
    "\n",
    "A= [[float(inp[i].split(' ')[0])] for i in range(0,26)] \n",
    "B= [[float(inp[i].split(' ')[1])] for i in range(0,26)] \n",
    "\n",
    "#Fitting in y=a0 + a1(x) + a2(x^2) + a3(x^3)+a4(x^4)\n",
    "C,D=Fit(A,B,5) #Fit function from Assign4.py module\n",
    "\n",
    "print(\"Solution Matrix for the coefficients given in order [[a0],[a1],[a2],[a3],[a4]]: \")\n",
    "D=chelk(C,D,25) #Chelosky decomposition to solve C,D\n",
    "\n",
    "def my_formula(x,D): \n",
    "    k=0\n",
    "    for i in range(len(D)):\n",
    "        k+=D[i][0]*(x**i)\n",
    "    return k  \n",
    "\n",
    "FitPlot(A,B,-2.1,2.1,my_formula,D)"
   ]
  }
 ],
 "metadata": {
  "kernelspec": {
   "display_name": "Python 3.9.3 64-bit",
   "language": "python",
   "name": "python3"
  },
  "language_info": {
   "codemirror_mode": {
    "name": "ipython",
    "version": 3
   },
   "file_extension": ".py",
   "mimetype": "text/x-python",
   "name": "python",
   "nbconvert_exporter": "python",
   "pygments_lexer": "ipython3",
   "version": "3.9.3"
  },
  "orig_nbformat": 4,
  "vscode": {
   "interpreter": {
    "hash": "b7b49a38ea19a84790019c52b75c422fbbb0ad7042f247802e29ffad49c98c26"
   }
  }
 },
 "nbformat": 4,
 "nbformat_minor": 2
}

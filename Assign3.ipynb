{
 "cells": [
  {
   "cell_type": "code",
   "execution_count": 1,
   "metadata": {},
   "outputs": [],
   "source": [
    "import Library.Assign3 as t1 \n",
    "file= open('Input-assign3.txt')\n",
    "inp= file.readlines()  #Reading data from input file into array inp"
   ]
  },
  {
   "cell_type": "markdown",
   "metadata": {},
   "source": [
    "Question 1: Use Gauss-Jordon and LU decomposition to solve a given set of linear equations."
   ]
  },
  {
   "cell_type": "code",
   "execution_count": 2,
   "metadata": {},
   "outputs": [
    {
     "name": "stdout",
     "output_type": "stream",
     "text": [
      "Guass-Jordan: \n",
      "\n",
      "1.0  0.0  0.0  0.0  0.0  0.0  -1.76\n",
      "0.0  1.0  0.0  0.0  0.0  0.0  0.895\n",
      "0.0  0.0  1.0  0.0  0.0  0.0  4.052\n",
      "0.0  0.0  0.0  1.0  0.0  0.0  -1.617\n",
      "0.0  0.0  0.0  0.0  1.0  0.0  2.041\n",
      "0.0  0.0  0.0  0.0  0.0  1.0  0.152\n",
      "\n",
      " Solution matrix X: \n",
      "\n",
      "-1.76\n",
      "0.895\n",
      "4.052\n",
      "-1.617\n",
      "2.041\n",
      "0.152\n",
      "\n",
      " LU Decomposition: \n",
      "\n",
      " Solution matrix X: \n",
      "\n",
      "-1.768\n",
      "0.896\n",
      "4.053\n",
      "-1.617\n",
      "2.042\n",
      "0.152\n"
     ]
    }
   ],
   "source": [
    "A= [[float(n) for n in inp[i].split(' ')] for i in range(4,10)] #A stores matrix from input file\n",
    "print(\"Guass-Jordan: \\n\")\n",
    "t1.Guass(A,3) #Precision 3\n",
    "\n",
    "\n",
    "A= [[float(n) for n in inp[i].split(' ')] for i in range(13,19)]\n",
    "B= [[float(n) for n in inp[i].split(' ')] for i in range(20,26)]\n",
    "A,B=t1.arrange(A,B) #Arrange function checks whether matrix can be LU decomposed and returns a modified matrix through row pivot if not\n",
    "print(\"\\n LU Decomposition: \")\n",
    "t1.LUD(A,B,3) #Precision 3"
   ]
  },
  {
   "cell_type": "markdown",
   "metadata": {},
   "source": [
    "Question 2: To solve a set of linear equation by Cholesky decomposition (check for symmetric matrix) and Gauss-Seidel to a precision of 10^−6."
   ]
  },
  {
   "cell_type": "code",
   "execution_count": 3,
   "metadata": {},
   "outputs": [
    {
     "name": "stdout",
     "output_type": "stream",
     "text": [
      "Cholesky Decomposition: \n",
      "Solution matrix X:\n",
      "1.0\n",
      "1.0\n",
      "1.0\n",
      "1.0\n",
      "1.0\n",
      "1.0\n",
      "\n",
      "Gauss-Seidel: \n",
      "Solution matrix X:\n",
      "Number of iterations: 16 \n",
      "Solution matrix X:\n",
      "\n",
      "0.9999997530614102\n",
      "0.9999997892247294\n",
      "0.9999999100460266\n",
      "0.9999998509593768\n",
      "0.9999998727858708\n",
      "0.9999999457079743\n"
     ]
    }
   ],
   "source": [
    "A= [[float(n) for n in inp[i].split(' ')] for i in range(29,35)]\n",
    "B= [[float(n) for n in inp[i].split(' ')] for i in range(36,42)]\n",
    "print(\"Cholesky Decomposition: \\nSolution matrix X:\")\n",
    "t1.chelk(A,B,6) #Precision 6\n",
    "\n",
    "\n",
    "A= [[float(n) for n in inp[i].split(' ')] for i in range(29,35)]\n",
    "B= [[float(n) for n in inp[i].split(' ')] for i in range(36,42)]\n",
    "print(\"\\nGauss-Seidel: \\nSolution matrix X:\")\n",
    "A=t1.pivot(A) #Pivot turns A diagonally dominant if possible\n",
    "t1.GS(A,B,6) #Precision 6, max iterations: 300"
   ]
  },
  {
   "cell_type": "markdown",
   "metadata": {},
   "source": [
    "Question 3: Solve a set of linear equatio by LU decomposition (without rearranging) and Jacobi & Gauss-Seidel (with rearranging to make diagonally dominant using code) to a precision of 10^(−6)."
   ]
  },
  {
   "cell_type": "code",
   "execution_count": 4,
   "metadata": {},
   "outputs": [
    {
     "name": "stdout",
     "output_type": "stream",
     "text": [
      "4.0  0.0  4.0  10.0  1.0\n",
      "0.0  4.0  2.0  0.0  1.0\n",
      "2.0  5.0  1.0  3.0  13.0\n",
      "11.0  3.0  0.0  1.0  2.0\n",
      "3.0  2.0  7.0  1.0  0.0\n",
      "\n",
      "Diagonally dominant matrix:\n",
      "10.0  0.0  1.0  4.0  4.0\n",
      "0.0  4.0  1.0  0.0  2.0\n",
      "3.0  5.0  13.0  2.0  1.0\n",
      "1.0  3.0  2.0  11.0  0.0\n",
      "1.0  2.0  0.0  3.0  7.0\n",
      "\n",
      "Jacobi:\n",
      "Number of iterations: 500000 \n",
      "Solution matrix X:\n",
      "\n",
      "0.15231640618263392\n",
      "2.215599062283993\n",
      "5.715033054639201\n",
      "2.979164813540835\n",
      "0.21128353989331572\n",
      "\n",
      "Guass-Seidal:\n",
      "Number of iterations: 13 \n",
      "Solution matrix X:\n",
      "\n",
      "0.152317043317764\n",
      "2.215599661524039\n",
      "5.715033573535942\n",
      "2.9791651659125673\n",
      "0.21128401941377944\n"
     ]
    }
   ],
   "source": [
    "#Guass-Seidal and Jacobi\n",
    "\n",
    "A= [[float(n) for n in inp[i].split(' ')] for i in range(45,50)]\n",
    "B= [[float(n) for n in inp[i].split(' ')] for i in range(51,56)]\n",
    "\n",
    "#Printing A and its diagonally dominant form to show the difference and subsequent arrangement of roots in final list\n",
    "for line in A: print ('  '.join(map(str, line) ))  \n",
    "\n",
    "print(\"\\nDiagonally dominant matrix:\")\n",
    "for line in t1.pivot(A):print ('  '.join(map(str, line) )) \n",
    "\n",
    "#The solution matrix X is therefore arranged as: (x4 x2 x5 x1 x3) \n",
    "\n",
    "A= [[float(n) for n in inp[i].split(' ')] for i in range(45,50)]\n",
    "B= [[float(n) for n in inp[i].split(' ')] for i in range(51,56)]\n",
    "A=t1.pivot(A)\n",
    "print(\"\\nJacobi:\")\n",
    "t1.Jacobi(A,B,6) #Precision 6, max iterations= 500000\n",
    "\n",
    "A= [[float(n) for n in inp[i].split(' ')] for i in range(45,50)]\n",
    "B= [[float(n) for n in inp[i].split(' ')] for i in range(51,56)]\n",
    "A=t1.pivot(A)\n",
    "print(\"\\nGuass-Seidal:\")\n",
    "t1.GS(A,B,6) #Precision 6, max iterations= 300"
   ]
  },
  {
   "cell_type": "code",
   "execution_count": 5,
   "metadata": {},
   "outputs": [
    {
     "name": "stdout",
     "output_type": "stream",
     "text": [
      "\n",
      "LU Decomposition:\n",
      "\n",
      " Solution matrix X: \n",
      "\n",
      "2.979165\n",
      "2.215599\n",
      "0.211286\n",
      "0.152316\n",
      "5.715034\n"
     ]
    }
   ],
   "source": [
    "#LU Decomposition\n",
    "\n",
    "A= [[float(n) for n in inp[i].split(' ')] for i in range(45,50)]\n",
    "B= [[float(n) for n in inp[i].split(' ')] for i in range(51,56)]\n",
    "#Not arranging beforehand\n",
    "print(\"\\nLU Decomposition:\")\n",
    "t1.LUD(A,B,6) #Precision 6"
   ]
  }
 ],
 "metadata": {
  "kernelspec": {
   "display_name": "Python 3.9.3 64-bit",
   "language": "python",
   "name": "python3"
  },
  "language_info": {
   "codemirror_mode": {
    "name": "ipython",
    "version": 3
   },
   "file_extension": ".py",
   "mimetype": "text/x-python",
   "name": "python",
   "nbconvert_exporter": "python",
   "pygments_lexer": "ipython3",
   "version": "3.9.3"
  },
  "orig_nbformat": 4,
  "vscode": {
   "interpreter": {
    "hash": "b7b49a38ea19a84790019c52b75c422fbbb0ad7042f247802e29ffad49c98c26"
   }
  }
 },
 "nbformat": 4,
 "nbformat_minor": 2
}

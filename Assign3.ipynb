{
 "cells": [
  {
   "cell_type": "code",
   "execution_count": 5,
   "metadata": {},
   "outputs": [],
   "source": [
    "import Library.Assign3 as t1\n",
    "file= open('Input-assign3.txt')\n",
    "inp= file.readlines()"
   ]
  },
  {
   "cell_type": "markdown",
   "metadata": {},
   "source": [
    "Question 1: Use Gauss-Jordon and LU decomposition to solve a given set of linear equations."
   ]
  },
  {
   "cell_type": "code",
   "execution_count": 2,
   "metadata": {},
   "outputs": [
    {
     "name": "stdout",
     "output_type": "stream",
     "text": [
      "Guass-Jordan: \n",
      "\n",
      "1.0  0.0  0.0  0.0  0.0  0.0  -1.76\n",
      "0.0  1.0  0.0  0.0  0.0  0.0  0.895\n",
      "0.0  0.0  1.0  0.0  0.0  0.0  4.052\n",
      "0.0  0.0  0.0  1.0  0.0  0.0  -1.617\n",
      "0.0  0.0  0.0  0.0  1.0  0.0  2.041\n",
      "0.0  0.0  0.0  0.0  0.0  1.0  0.152\n",
      "\n",
      " Solution matrix X: \n",
      "\n",
      "-1.76\n",
      "0.895\n",
      "4.052\n",
      "-1.617\n",
      "2.041\n",
      "0.152\n",
      "\n",
      " LU Decomposition: \n",
      "\n",
      " Solution matrix X: \n",
      "\n",
      "-1.768\n",
      "0.896\n",
      "4.053\n",
      "-1.617\n",
      "2.042\n",
      "0.152\n"
     ]
    }
   ],
   "source": [
    "A= [[float(n) for n in inp[i].split(' ')] for i in range(4,10)]\n",
    "print(\"Guass-Jordan: \\n\")\n",
    "t1.Guass(A,3) #Precision 3\n",
    "\n",
    "\n",
    "print(\"\\n LU Decomposition: \")\n",
    "A= [[float(n) for n in inp[i].split(' ')] for i in range(13,19)]\n",
    "B= [[float(n) for n in inp[i].split(' ')] for i in range(20,26)]\n",
    "t1.LUC(A,B,3) #Precision 3\n"
   ]
  },
  {
   "cell_type": "markdown",
   "metadata": {},
   "source": [
    "Question 2: To solve a set of linear equation by Cholesky decomposition (check for symmetric matrix) and Gauss-Seidel to a precision of 10^−6."
   ]
  },
  {
   "cell_type": "code",
   "execution_count": 13,
   "metadata": {},
   "outputs": [
    {
     "name": "stdout",
     "output_type": "stream",
     "text": [
      "Cholesky Decomposition: \n",
      "Solution matrix X:\n",
      "\n",
      "\n",
      "1.0\n",
      "1.0\n",
      "1.0\n",
      "1.0\n",
      "1.0\n",
      "1.0\n"
     ]
    }
   ],
   "source": [
    "A= [[float(n) for n in inp[i].split(' ')] for i in range(29,35)]\n",
    "B= [[float(n) for n in inp[i].split(' ')] for i in range(36,42)]\n",
    "print(\"Cholesky Decomposition: \\nSolution matrix X:\")\n",
    "t1.chelk(A,B,6)\n",
    "\n",
    "\n"
   ]
  }
 ],
 "metadata": {
  "kernelspec": {
   "display_name": "Python 3.9.3 64-bit",
   "language": "python",
   "name": "python3"
  },
  "language_info": {
   "codemirror_mode": {
    "name": "ipython",
    "version": 3
   },
   "file_extension": ".py",
   "mimetype": "text/x-python",
   "name": "python",
   "nbconvert_exporter": "python",
   "pygments_lexer": "ipython3",
   "version": "3.9.3"
  },
  "orig_nbformat": 4,
  "vscode": {
   "interpreter": {
    "hash": "b7b49a38ea19a84790019c52b75c422fbbb0ad7042f247802e29ffad49c98c26"
   }
  }
 },
 "nbformat": 4,
 "nbformat_minor": 2
}

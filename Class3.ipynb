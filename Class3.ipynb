{
 "cells": [
  {
   "cell_type": "code",
   "execution_count": 2,
   "metadata": {},
   "outputs": [
    {
     "name": "stdout",
     "output_type": "stream",
     "text": [
      "1.7321  -0.5773  1.1547\n",
      "0  1.291  -0.2582\n",
      "0  0  1.6125\n",
      "\n",
      "\n",
      "\n",
      "\n",
      "1.7321  -0.5773  1.1547\n",
      "0  1.291  -0.2582\n",
      "0  0  1.6125\n",
      "\n",
      "\n",
      "4.6187\n",
      "-1.8076\n",
      "3.2248\n",
      "\n",
      "\n",
      "0.9999\n",
      "-1.0002\n",
      "1.9999\n"
     ]
    }
   ],
   "source": [
    "import Library.Assign2 as t1\n",
    "import Library.Class2 as t2\n",
    "\n",
    "a=[[3,-1,2],[-1,2,-1],[2,-1,4]]\n",
    "b=[[8],[-5],[11]]\n",
    "\n",
    "t1.LU(a)\n",
    "\n",
    "print(\"\\n\")\n",
    "t1.chel(a,b)\n"
   ]
  },
  {
   "cell_type": "code",
   "execution_count": 2,
   "metadata": {},
   "outputs": [
    {
     "ename": "IndexError",
     "evalue": "index 1 is out of bounds for axis 0 with size 1",
     "output_type": "error",
     "traceback": [
      "\u001b[1;31m---------------------------------------------------------------------------\u001b[0m",
      "\u001b[1;31mIndexError\u001b[0m                                Traceback (most recent call last)",
      "\u001b[1;32mc:\\Users\\Deependra Singh\\python\\Computational_physics\\Assign2.ipynb Cell 2\u001b[0m in \u001b[0;36m<cell line: 3>\u001b[1;34m()\u001b[0m\n\u001b[0;32m      <a href='vscode-notebook-cell:/c%3A/Users/Deependra%20Singh/python/Computational_physics/Assign2.ipynb#W2sZmlsZQ%3D%3D?line=0'>1</a>\u001b[0m \u001b[39mimport\u001b[39;00m \u001b[39mnumpy\u001b[39;00m \u001b[39mas\u001b[39;00m \u001b[39mny\u001b[39;00m\n\u001b[0;32m      <a href='vscode-notebook-cell:/c%3A/Users/Deependra%20Singh/python/Computational_physics/Assign2.ipynb#W2sZmlsZQ%3D%3D?line=1'>2</a>\u001b[0m A\u001b[39m=\u001b[39mny\u001b[39m.\u001b[39mmatrix(\u001b[39m'\u001b[39m\u001b[39m[2.387328483,5.87,6.555;6.77778, 5.484,9.624627;8.646454,73.5353,4.1719]\u001b[39m\u001b[39m'\u001b[39m)\n\u001b[1;32m----> <a href='vscode-notebook-cell:/c%3A/Users/Deependra%20Singh/python/Computational_physics/Assign2.ipynb#W2sZmlsZQ%3D%3D?line=2'>3</a>\u001b[0m \u001b[39mprint\u001b[39m(t1\u001b[39m.\u001b[39;49mtranspose(A))\n",
      "File \u001b[1;32mc:\\Users\\Deependra Singh\\python\\Computational_physics\\Library\\Assign2.py:34\u001b[0m, in \u001b[0;36mtranspose\u001b[1;34m(A)\u001b[0m\n\u001b[0;32m     32\u001b[0m \u001b[39mfor\u001b[39;00m i \u001b[39min\u001b[39;00m \u001b[39mrange\u001b[39m(\u001b[39mlen\u001b[39m(A)):\n\u001b[0;32m     33\u001b[0m   \u001b[39mfor\u001b[39;00m j \u001b[39min\u001b[39;00m \u001b[39mrange\u001b[39m(i\u001b[39m+\u001b[39m\u001b[39m1\u001b[39m,\u001b[39mlen\u001b[39m(A)):\n\u001b[1;32m---> 34\u001b[0m     A[i][j]\u001b[39m.\u001b[39mA[j][i]\u001b[39m=\u001b[39mA[j][i],A[i][j]\n\u001b[0;32m     35\u001b[0m \u001b[39mreturn\u001b[39;00m A\n",
      "File \u001b[1;32mc:\\Users\\Deependra Singh\\AppData\\Local\\Programs\\Python\\Python39\\lib\\site-packages\\numpy\\matrixlib\\defmatrix.py:193\u001b[0m, in \u001b[0;36mmatrix.__getitem__\u001b[1;34m(self, index)\u001b[0m\n\u001b[0;32m    190\u001b[0m \u001b[39mself\u001b[39m\u001b[39m.\u001b[39m_getitem \u001b[39m=\u001b[39m \u001b[39mTrue\u001b[39;00m\n\u001b[0;32m    192\u001b[0m \u001b[39mtry\u001b[39;00m:\n\u001b[1;32m--> 193\u001b[0m     out \u001b[39m=\u001b[39m N\u001b[39m.\u001b[39;49mndarray\u001b[39m.\u001b[39;49m\u001b[39m__getitem__\u001b[39;49m(\u001b[39mself\u001b[39;49m, index)\n\u001b[0;32m    194\u001b[0m \u001b[39mfinally\u001b[39;00m:\n\u001b[0;32m    195\u001b[0m     \u001b[39mself\u001b[39m\u001b[39m.\u001b[39m_getitem \u001b[39m=\u001b[39m \u001b[39mFalse\u001b[39;00m\n",
      "\u001b[1;31mIndexError\u001b[0m: index 1 is out of bounds for axis 0 with size 1"
     ]
    }
   ],
   "source": [
    "import numpy as ny\n",
    "A=ny.matrix('[2.387328483,5.87,6.555;6.77778, 5.484,9.624627;8.646454,73.5353,4.1719]')\n",
    "print(t1.transpose(A))"
   ]
  }
 ],
 "metadata": {
  "kernelspec": {
   "display_name": "Python 3.9.3 64-bit",
   "language": "python",
   "name": "python3"
  },
  "language_info": {
   "codemirror_mode": {
    "name": "ipython",
    "version": 3
   },
   "file_extension": ".py",
   "mimetype": "text/x-python",
   "name": "python",
   "nbconvert_exporter": "python",
   "pygments_lexer": "ipython3",
   "version": "3.9.3"
  },
  "orig_nbformat": 4,
  "vscode": {
   "interpreter": {
    "hash": "b7b49a38ea19a84790019c52b75c422fbbb0ad7042f247802e29ffad49c98c26"
   }
  }
 },
 "nbformat": 4,
 "nbformat_minor": 2
}

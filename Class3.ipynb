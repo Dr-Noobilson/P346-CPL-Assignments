{
 "cells": [
  {
   "cell_type": "code",
   "execution_count": 3,
   "metadata": {},
   "outputs": [
    {
     "name": "stdout",
     "output_type": "stream",
     "text": [
      "\n",
      "\n",
      "2.0  6.0  -8.0\n",
      "0  1.0  5.0\n",
      "0  0  3.0\n",
      "\n",
      "\n",
      "0.0\n",
      "1.0\n",
      "-1.6667\n",
      "\n",
      "\n",
      "-13.5564\n",
      "3.778\n",
      "-0.5556\n",
      "Matrix is not symmetric\n"
     ]
    },
    {
     "data": {
      "text/plain": [
       "0"
      ]
     },
     "execution_count": 3,
     "metadata": {},
     "output_type": "execute_result"
    }
   ],
   "source": [
    "import Library.Class3 as t1\n",
    "\n",
    "'''''''''''\n",
    "a=[[3,-1,2],[-1,2,-1],[2,-1,4]]\n",
    "r=a\n",
    "b=[[8],[-5],[11]]\n",
    "\n",
    "t1.LU(a)\n",
    "\n",
    "print(\"\\n\")\n",
    "t1.chel(a,b)\n",
    "print(\"\\n\")\n",
    "\n",
    "#d=a=[[3,-1,2],[-1,2,-1],[2,-1,4]]\n",
    "#c=[[8],[-5],[11]]\n",
    "#t1.chelos(d,c)\n",
    "'''''''''\n",
    "\n",
    "v = [[4, 12, -16],\n",
    "          [12, 37, -43],\n",
    "          [-16, -43, 98]]\n",
    "#t1.LUT(v)\n",
    "print(\"\\n\")\n",
    "b=[[0],[1],[0]]\n",
    "#t1.chelk(v,b)\n",
    "t1.chelos(v,b)"
   ]
  }
 ],
 "metadata": {
  "kernelspec": {
   "display_name": "Python 3.9.3 64-bit",
   "language": "python",
   "name": "python3"
  },
  "language_info": {
   "codemirror_mode": {
    "name": "ipython",
    "version": 3
   },
   "file_extension": ".py",
   "mimetype": "text/x-python",
   "name": "python",
   "nbconvert_exporter": "python",
   "pygments_lexer": "ipython3",
   "version": "3.9.3"
  },
  "orig_nbformat": 4,
  "vscode": {
   "interpreter": {
    "hash": "b7b49a38ea19a84790019c52b75c422fbbb0ad7042f247802e29ffad49c98c26"
   }
  }
 },
 "nbformat": 4,
 "nbformat_minor": 2
}

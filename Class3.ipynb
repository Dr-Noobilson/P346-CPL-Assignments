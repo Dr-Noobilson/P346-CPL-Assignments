{
 "cells": [
  {
   "cell_type": "code",
   "execution_count": 3,
   "metadata": {},
   "outputs": [
    {
     "name": "stdout",
     "output_type": "stream",
     "text": [
      "1.7321  -0.5773  1.1547\n",
      "0  1.291  -0.2582\n",
      "0  0  1.6125\n",
      "\n",
      "\n",
      "\n",
      "\n",
      "1.7321  -0.5773  1.1547\n",
      "0  1.291  -0.2582\n",
      "0  0  1.6125\n",
      "\n",
      "\n",
      "4.6187\n",
      "-1.8076\n",
      "3.2248\n",
      "\n",
      "\n",
      "0.9999\n",
      "-1.0002\n",
      "1.9999\n",
      "\n",
      "\n",
      "\n",
      "\n",
      "1.7321  -0.5773  1.1547\n",
      "0  1.291  -0.2582\n",
      "0  0  1.6125\n",
      "\n",
      "\n",
      "0.5773\n",
      "-0.5166\n",
      "0.7441\n",
      "1.7321  -0.5773  1.1547\n",
      "0  1.291  -0.2582\n",
      "0  0  1.6125\n",
      "\n",
      "\n",
      "\n",
      "\n",
      "-0.077\n",
      "-0.3079\n",
      "0.4615\n"
     ]
    },
    {
     "data": {
      "text/plain": [
       "[[-0.077], [-0.3079], [0.4615]]"
      ]
     },
     "execution_count": 3,
     "metadata": {},
     "output_type": "execute_result"
    }
   ],
   "source": [
    "import Library.Class3 as t1\n",
    "\n",
    "a=[[3,-1,2],[-1,2,-1],[2,-1,4]]\n",
    "b=[[8],[-5],[11]]\n",
    "\n",
    "t1.LU(a)\n",
    "\n",
    "print(\"\\n\")\n",
    "t1.chel(a,b)\n",
    "print(\"\\n\")\n",
    "\n",
    "d=a=[[3,-1,2],[-1,2,-1],[2,-1,4]]\n",
    "c=[[8],[-5],[11]]\n",
    "t1.chelos(d,c)\n"
   ]
  }
 ],
 "metadata": {
  "kernelspec": {
   "display_name": "Python 3.9.3 64-bit",
   "language": "python",
   "name": "python3"
  },
  "language_info": {
   "codemirror_mode": {
    "name": "ipython",
    "version": 3
   },
   "file_extension": ".py",
   "mimetype": "text/x-python",
   "name": "python",
   "nbconvert_exporter": "python",
   "pygments_lexer": "ipython3",
   "version": "3.9.3"
  },
  "orig_nbformat": 4,
  "vscode": {
   "interpreter": {
    "hash": "b7b49a38ea19a84790019c52b75c422fbbb0ad7042f247802e29ffad49c98c26"
   }
  }
 },
 "nbformat": 4,
 "nbformat_minor": 2
}

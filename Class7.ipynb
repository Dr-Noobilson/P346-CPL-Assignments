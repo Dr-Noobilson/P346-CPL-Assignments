{
 "cells": [
  {
   "cell_type": "code",
   "execution_count": 1,
   "metadata": {},
   "outputs": [],
   "source": [
    "import Library.Class7 as t1\n",
    "import math\n",
    "import matplotlib.pyplot as plt\n",
    "import numpy as np\n",
    "\n",
    "\n",
    "def fun1(x):\n",
    "    return 1/x\n",
    "\n",
    "def fun2(x):\n",
    "    return x*math.cos(x)\n",
    "\n",
    "def eps(a,b):\n",
    "    print(abs(a-b))\n",
    "    print()"
   ]
  },
  {
   "cell_type": "code",
   "execution_count": 2,
   "metadata": {},
   "outputs": [
    {
     "name": "stdout",
     "output_type": "stream",
     "text": [
      "sum for N ( 4 ) = 0.69121989\n",
      "0.001927290000000026\n",
      "\n",
      "sum for N ( 8 ) = 0.69266055\n",
      "0.0004866299999999324\n",
      "\n",
      "sum for N ( 12 ) = 0.6929305\n",
      "0.00021667999999996912\n",
      "\n",
      "sum for N ( 20 ) = 0.6930691\n",
      "7.807999999998039e-05\n",
      "\n"
     ]
    }
   ],
   "source": [
    "k=t1.intMid(fun1,1,2,4)\n",
    "eps(0.69314718,k)\n",
    "k=t1.intMid(fun1,1,2,8)\n",
    "eps(0.69314718,k)\n",
    "k=t1.intMid(fun1,1,2,12)\n",
    "eps(0.69314718,k)\n",
    "k=t1.intMid(fun1,1,2,20)\n",
    "eps(0.69314718,k)"
   ]
  },
  {
   "cell_type": "code",
   "execution_count": 3,
   "metadata": {},
   "outputs": [
    {
     "name": "stdout",
     "output_type": "stream",
     "text": [
      "sum for N ( 4 ) = 0.75952381\n",
      "0.06637663000000005\n",
      "\n",
      "sum for N ( 8 ) = 0.72537185\n",
      "0.032224670000000066\n",
      "\n",
      "sum for N ( 12 ) = 0.71441417\n",
      "0.021266989999999986\n",
      "\n",
      "sum for N ( 20 ) = 0.70580338\n",
      "0.012656200000000006\n",
      "\n"
     ]
    }
   ],
   "source": [
    "k=t1.intTrap(fun1,1,2,4)\n",
    "eps(0.69314718,k)\n",
    "k=t1.intTrap(fun1,1,2,8)\n",
    "eps(0.69314718,k)\n",
    "k=t1.intTrap(fun1,1,2,12)\n",
    "eps(0.69314718,k)\n",
    "k=t1.intTrap(fun1,1,2,20)\n",
    "eps(0.69314718,k)"
   ]
  },
  {
   "cell_type": "code",
   "execution_count": 4,
   "metadata": {},
   "outputs": [
    {
     "name": "stdout",
     "output_type": "stream",
     "text": [
      "sum for N ( 4 ) = 0.58742009\n",
      "0.01662376320999992\n",
      "\n",
      "sum for N ( 8 ) = 0.57492701\n",
      "0.004130683209999986\n",
      "\n",
      "sum for N ( 12 ) = 0.57262987\n",
      "0.001833543209999955\n",
      "\n",
      "sum for N ( 20 ) = 0.57145571\n",
      "0.0006593832099999197\n",
      "\n"
     ]
    }
   ],
   "source": [
    "k=t1.intMid(fun2,0,1.57,4)\n",
    "eps(0.57079632679,k)\n",
    "k=t1.intMid(fun2,0,1.57,8)\n",
    "eps(0.57079632679,k)\n",
    "k=t1.intMid(fun2,0,1.57,12)\n",
    "eps(0.57079632679,k)\n",
    "k=t1.intMid(fun2,0,1.57,20)\n",
    "eps(0.57079632679,k)"
   ]
  },
  {
   "cell_type": "code",
   "execution_count": 5,
   "metadata": {},
   "outputs": [
    {
     "name": "stdout",
     "output_type": "stream",
     "text": [
      "sum for N ( 4 ) = 0.53741563\n",
      "0.03338069679\n",
      "\n",
      "sum for N ( 8 ) = 0.56241786\n",
      "0.008378466789999983\n",
      "\n",
      "sum for N ( 12 ) = 0.56704735\n",
      "0.0037489767900000803\n",
      "\n",
      "sum for N ( 20 ) = 0.56942718\n",
      "0.0013691467899999976\n",
      "\n"
     ]
    }
   ],
   "source": [
    "k=t1.intTrap(fun2,0,1.57,4)\n",
    "eps(0.57079632679,k)\n",
    "k=t1.intTrap(fun2,0,1.57,8)\n",
    "eps(0.57079632679,k)\n",
    "k=t1.intTrap(fun2,0,1.57,12)\n",
    "eps(0.57079632679,k)\n",
    "k=t1.intTrap(fun2,0,1.57,20)\n",
    "eps(0.57079632679,k)"
   ]
  },
  {
   "cell_type": "code",
   "execution_count": 6,
   "metadata": {},
   "outputs": [
    {
     "name": "stdout",
     "output_type": "stream",
     "text": [
      "sum for N ( 4 ) = 0.73492063\n",
      "0.04177344999999999\n",
      "\n",
      "sum for N ( 8 ) = 0.71398786\n",
      "0.020840680000000056\n",
      "\n",
      "sum for N ( 12 ) = 0.70703755\n",
      "0.01389037000000004\n",
      "\n",
      "sum for N ( 20 ) = 0.70148071\n",
      "0.008333530000000033\n",
      "\n"
     ]
    }
   ],
   "source": [
    "k=t1.Simp(fun1,1,2,4)\n",
    "eps(0.69314718,k)\n",
    "k=t1.Simp(fun1,1,2,8)\n",
    "eps(0.69314718,k)\n",
    "k=t1.Simp(fun1,1,2,12)\n",
    "eps(0.69314718,k)\n",
    "k=t1.Simp(fun1,1,2,20)\n",
    "eps(0.69314718,k)"
   ]
  },
  {
   "cell_type": "code",
   "execution_count": 7,
   "metadata": {},
   "outputs": [
    {
     "name": "stdout",
     "output_type": "stream",
     "text": [
      "sum for N ( 4 ) = 0.57125072\n",
      "0.00045439320999995925\n",
      "\n",
      "sum for N ( 8 ) = 0.57075193\n",
      "4.4396790000011954e-05\n",
      "\n",
      "sum for N ( 12 ) = 0.57074876\n",
      "4.756679000006425e-05\n",
      "\n",
      "sum for N ( 20 ) = 0.57076408\n",
      "3.2246790000023395e-05\n",
      "\n"
     ]
    }
   ],
   "source": [
    "k=t1.Simp(fun2,0,1.57,4)\n",
    "eps(0.57079632679,k)\n",
    "k=t1.Simp(fun2,0,1.57,8)\n",
    "eps(0.57079632679,k)\n",
    "k=t1.Simp(fun2,0,1.57,12)\n",
    "eps(0.57079632679,k)\n",
    "k=t1.Simp(fun2,0,1.57,20)\n",
    "eps(0.57079632679,k)"
   ]
  },
  {
   "cell_type": "code",
   "execution_count": 8,
   "metadata": {},
   "outputs": [
    {
     "name": "stdout",
     "output_type": "stream",
     "text": [
      "Upperbound= 29\n",
      "Upperbound= 41\n",
      "Upperbound=8\n",
      "Upperbound= 61\n",
      "Upperbound= 87\n",
      "Upperbound=8\n"
     ]
    }
   ],
   "source": [
    "\n",
    "def UpperMid(a,b,d,e):\n",
    "    print(\"Upperbound=\",math.ceil(math.sqrt(((b-a)**3)*d/(24*e))))\n",
    "\n",
    "def UpperTrap(a,b,d,e):\n",
    "    print(\"Upperbound=\",math.ceil(math.sqrt(((b-a)**3)*d/(12*e))))\n",
    "    \n",
    "def UpperSimp(a,b,d,e):\n",
    "    k=math.ceil(((((b-a)**5)*d)/(180*e))**(0.25))\n",
    "    print(\"Upperbound=\", end=\"\")\n",
    "    print(k if k%2==0 else k+1)\n",
    "\n",
    "\n",
    "\n",
    "UpperMid(1,2,2,0.0001)\n",
    "UpperTrap(1,2,2,0.0001)\n",
    "UpperSimp(1,2,24,0.0001)\n",
    "UpperMid(0,1.57,2.299,0.0001)\n",
    "UpperTrap(0,1.57,2.299,0.0001)\n",
    "UpperSimp(0,1.57,4,0.0001)"
   ]
  },
  {
   "cell_type": "code",
   "execution_count": 12,
   "metadata": {},
   "outputs": [
    {
     "name": "stdout",
     "output_type": "stream",
     "text": [
      "Fn: 0.6715937060725968 \n",
      "Error: 0.9209467779343847\n"
     ]
    },
    {
     "data": {
      "image/png": "[encoded data removed]",
      "text/plain": [
       "<Figure size 432x288 with 1 Axes>"
      ]
     },
     "metadata": {
      "needs_background": "light"
     },
     "output_type": "display_data"
    },
    {
     "name": "stdout",
     "output_type": "stream",
     "text": [
      "Fn: 3.1444129701556753 \n",
      "Error: 20.198639249022847\n"
     ]
    },
    {
     "data": {
      "image/png": "[encoded data removed]",
      "text/plain": [
       "<Figure size 432x288 with 1 Axes>"
      ]
     },
     "metadata": {
      "needs_background": "light"
     },
     "output_type": "display_data"
    },
    {
     "name": "stdout",
     "output_type": "stream",
     "text": [
      "Fn: 3.037469853630618 \n",
      "Error: 18.86378338550236\n",
      "Fn: 3.0437052190419234 \n",
      "Error: 18.979157771305964\n",
      "Fn: 3.079098288622349 \n",
      "Error: 19.38975834512273\n",
      "Fn: 3.1662232202463065 \n",
      "Error: 20.44368261912212\n",
      "Fn: 3.157725109688442 \n",
      "Error: 20.32147411638296\n",
      "Fn: 3.1505324964051296 \n",
      "Error: 20.238980113399524\n",
      "[10, 20, 30, 40, 50, 60] \n",
      " [3.037469853630618, 3.0437052190419234, 3.079098288622349, 3.1662232202463065, 3.157725109688442, 3.1505324964051296]\n"
     ]
    },
    {
     "data": {
      "image/png": "[encoded data removed]",
      "text/plain": [
       "<Figure size 432x288 with 1 Axes>"
      ]
     },
     "metadata": {
      "needs_background": "light"
     },
     "output_type": "display_data"
    }
   ],
   "source": [
    "p=t1.MonteC(fun1,1,2,10,0.1) \n",
    "\n",
    "t1.PlotMC(p,1,2,fun1)\n",
    "\n",
    "def fun3(x):\n",
    "    return 4/(1+x**2)\n",
    "\n",
    "p=t1.MonteC(fun3,0,1,10000,0.1)\n",
    "t1.PlotMC(p,0,1,fun3)\n",
    "\n",
    "       \n",
    "t1.MCarlo(500,0,1,fun3,0.01)"
   ]
  }
 ],
 "metadata": {
  "kernelspec": {
   "display_name": "Python 3.9.3 64-bit",
   "language": "python",
   "name": "python3"
  },
  "language_info": {
   "codemirror_mode": {
    "name": "ipython",
    "version": 3
   },
   "file_extension": ".py",
   "mimetype": "text/x-python",
   "name": "python",
   "nbconvert_exporter": "python",
   "pygments_lexer": "ipython3",
   "version": "3.9.3"
  },
  "orig_nbformat": 4,
  "vscode": {
   "interpreter": {
    "hash": "b7b49a38ea19a84790019c52b75c422fbbb0ad7042f247802e29ffad49c98c26"
   }
  }
 },
 "nbformat": 4,
 "nbformat_minor": 2
}

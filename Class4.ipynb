{
 "cells": [
  {
   "cell_type": "code",
   "execution_count": 1,
   "metadata": {},
   "outputs": [
    {
     "name": "stdout",
     "output_type": "stream",
     "text": [
      "8\n",
      "1.9996660156250001\n",
      "3.9998593749999998\n",
      "3.0000703125\n"
     ]
    },
    {
     "data": {
      "text/plain": [
       "[[1.9996660156250001], [3.9998593749999998], [3.0000703125]]"
      ]
     },
     "execution_count": 1,
     "metadata": {},
     "output_type": "execute_result"
    }
   ],
   "source": [
    "import Library.Class4 as t1\n",
    "\n",
    "a=[[4,-1,1],[-2,1,5],[4,-8,1]]\n",
    "b=[[7],[15],[-21]]\n",
    "\n",
    "t1.Jacobi(a,b)"
   ]
  },
  {
   "cell_type": "code",
   "execution_count": 2,
   "metadata": {},
   "outputs": [
    {
     "name": "stdout",
     "output_type": "stream",
     "text": [
      "-2.8974625942809638e+284\n",
      "-2.2906453082670524e+284\n",
      "-3.7393766054075345e+284\n"
     ]
    }
   ],
   "source": [
    "a=[[3,2,2],[1,1,1],[2,3,1]]\n",
    "b=[[15],[6],[13]]\n",
    "t1.Jacobi(a,b)"
   ]
  },
  {
   "cell_type": "code",
   "execution_count": 3,
   "metadata": {},
   "outputs": [
    {
     "name": "stdout",
     "output_type": "stream",
     "text": [
      "391\n",
      "nan\n",
      "nan\n",
      "nan\n"
     ]
    },
    {
     "data": {
      "text/plain": [
       "[[nan], [nan], [nan]]"
      ]
     },
     "execution_count": 3,
     "metadata": {},
     "output_type": "execute_result"
    }
   ],
   "source": [
    "a=[[4,-1,1],[-2,1,5],[4,-8,1]]\n",
    "b=[[7],[15],[-21]]\n",
    "t1.Jacobi(a,b)"
   ]
  },
  {
   "cell_type": "code",
   "execution_count": 1,
   "metadata": {},
   "outputs": [
    {
     "name": "stdout",
     "output_type": "stream",
     "text": [
      "11 \n",
      "\n",
      "-0.7534207009017271\n",
      "0.041094530177099575\n",
      "-0.2808200503339203\n",
      "0.6917784271375823\n"
     ]
    },
    {
     "data": {
      "text/plain": [
       "[[-0.7534207009017271],\n",
       " [0.041094530177099575],\n",
       " [-0.2808200503339203],\n",
       " [0.6917784271375823]]"
      ]
     },
     "execution_count": 1,
     "metadata": {},
     "output_type": "execute_result"
    }
   ],
   "source": [
    "import Library.Class4 as t1\n",
    "\n",
    "a=[[4,1,-1,1],[1,4,-1,-1],[-1,-1,5,1],[1,-1,1,3]]\n",
    "b=[[-2],[-1],[0],[1]]\n",
    "\n",
    "t1.GS(a,b)"
   ]
  },
  {
   "cell_type": "code",
   "execution_count": 3,
   "metadata": {},
   "outputs": [
    {
     "name": "stdout",
     "output_type": "stream",
     "text": [
      "[[32422], [19731], [1245.5], [22383.5]]\n"
     ]
    },
    {
     "ename": "IndexError",
     "evalue": "list index out of range",
     "output_type": "error",
     "traceback": [
      "\u001b[1;31m---------------------------------------------------------------------------\u001b[0m",
      "\u001b[1;31mIndexError\u001b[0m                                Traceback (most recent call last)",
      "\u001b[1;32mc:\\Users\\Deependra Singh\\python\\Computational_physics\\Class4.ipynb Cell 5\u001b[0m in \u001b[0;36m<cell line: 7>\u001b[1;34m()\u001b[0m\n\u001b[0;32m      <a href='vscode-notebook-cell:/c%3A/Users/Deependra%20Singh/python/Computational_physics/Class4.ipynb#W4sZmlsZQ%3D%3D?line=4'>5</a>\u001b[0m b\u001b[39m=\u001b[39m[t2\u001b[39m.\u001b[39mLCG(\u001b[39m1\u001b[39m,\u001b[39m1\u001b[39m),t2\u001b[39m.\u001b[39mLCG(\u001b[39m1\u001b[39m,\u001b[39m2\u001b[39m),t2\u001b[39m.\u001b[39mLCG(\u001b[39m1\u001b[39m,\u001b[39m0.1\u001b[39m),t2\u001b[39m.\u001b[39mLCG(\u001b[39m1\u001b[39m,\u001b[39m0.5\u001b[39m)]\n\u001b[0;32m      <a href='vscode-notebook-cell:/c%3A/Users/Deependra%20Singh/python/Computational_physics/Class4.ipynb#W4sZmlsZQ%3D%3D?line=5'>6</a>\u001b[0m \u001b[39mprint\u001b[39m(b)\n\u001b[1;32m----> <a href='vscode-notebook-cell:/c%3A/Users/Deependra%20Singh/python/Computational_physics/Class4.ipynb#W4sZmlsZQ%3D%3D?line=6'>7</a>\u001b[0m t1\u001b[39m.\u001b[39;49mPosDef(a,b)\n",
      "File \u001b[1;32mc:\\Users\\Deependra Singh\\python\\Computational_physics\\Library\\Class4.py:93\u001b[0m, in \u001b[0;36mPosDef\u001b[1;34m(A, C)\u001b[0m\n\u001b[0;32m     92\u001b[0m \u001b[39mdef\u001b[39;00m \u001b[39mPosDef\u001b[39m(A,C):\n\u001b[1;32m---> 93\u001b[0m     K\u001b[39m=\u001b[39mmatpro(matpro(transpose(C),A),C)\n\u001b[0;32m     94\u001b[0m     \u001b[39mfor\u001b[39;00m i \u001b[39min\u001b[39;00m \u001b[39mrange\u001b[39m(\u001b[39mlen\u001b[39m(K)):\n\u001b[0;32m     95\u001b[0m         \u001b[39mfor\u001b[39;00m j \u001b[39min\u001b[39;00m \u001b[39mrange\u001b[39m(\u001b[39mlen\u001b[39m(K[\u001b[39m0\u001b[39m])):\n",
      "File \u001b[1;32mc:\\Users\\Deependra Singh\\python\\Computational_physics\\Library\\Class4.py:87\u001b[0m, in \u001b[0;36mtranspose\u001b[1;34m(A)\u001b[0m\n\u001b[0;32m     85\u001b[0m \u001b[39mfor\u001b[39;00m i \u001b[39min\u001b[39;00m \u001b[39mrange\u001b[39m(\u001b[39mlen\u001b[39m(A)):\n\u001b[0;32m     86\u001b[0m   \u001b[39mfor\u001b[39;00m j \u001b[39min\u001b[39;00m \u001b[39mrange\u001b[39m(i\u001b[39m+\u001b[39m\u001b[39m1\u001b[39m,\u001b[39mlen\u001b[39m(A)):\n\u001b[1;32m---> 87\u001b[0m     A[i][j],A[j][i]\u001b[39m=\u001b[39mA[j][i],A[i][j]\n\u001b[0;32m     88\u001b[0m \u001b[39mreturn\u001b[39;00m A\n",
      "\u001b[1;31mIndexError\u001b[0m: list index out of range"
     ]
    }
   ],
   "source": [
    "import Library.Class4 as t1\n",
    "import Library.Assign2 as t2\n",
    "\n",
    "a=[[4,1,-1,1],[1,4,-1,-1],[-1,-1,5,1],[1,-1,1,3]]\n",
    "b=[t2.LCG(1,1),t2.LCG(1,2),t2.LCG(1,0.1),t2.LCG(1,0.5)]\n",
    "print(b)\n",
    "t1.PosDef(a,b)"
   ]
  }
 ],
 "metadata": {
  "kernelspec": {
   "display_name": "Python 3.9.3 64-bit",
   "language": "python",
   "name": "python3"
  },
  "language_info": {
   "codemirror_mode": {
    "name": "ipython",
    "version": 3
   },
   "file_extension": ".py",
   "mimetype": "text/x-python",
   "name": "python",
   "nbconvert_exporter": "python",
   "pygments_lexer": "ipython3",
   "version": "3.9.3"
  },
  "orig_nbformat": 4,
  "vscode": {
   "interpreter": {
    "hash": "b7b49a38ea19a84790019c52b75c422fbbb0ad7042f247802e29ffad49c98c26"
   }
  }
 },
 "nbformat": 4,
 "nbformat_minor": 2
}

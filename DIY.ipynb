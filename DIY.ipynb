{
 "cells": [
  {
   "cell_type": "code",
   "execution_count": 1,
   "metadata": {},
   "outputs": [
    {
     "data": {
      "text/plain": [
       "[1.5726851847787993, 0.07413655531080332]"
      ]
     },
     "execution_count": 1,
     "metadata": {},
     "output_type": "execute_result"
    }
   ],
   "source": [
    "import Library.DIY as t1\n",
    "import math\n",
    "import matplotlib.pyplot as plt\n",
    "import numpy as np\n",
    "\n",
    "\n",
    "def f1(x):\n",
    "    return 1/(x**2 + math.cos(x)**2)\n",
    "\n",
    "def f2(x,L):\n",
    "    return L*math.exp(-L*x)/(1-math.exp(-math.pi*L)) \n",
    "\n",
    "def f3(x,L):\n",
    "    return -(1/L)*math.log(1-(1-math.exp(-math.pi*L))*x)  \n",
    "\n",
    "def f4(x,L):\n",
    "    return 1\n",
    "\n",
    "x = t1.inverse_sampling(f3,10000,0.1,0.8)\n",
    "\n",
    "t1.importance_sampling(f1,f4,f2,x,0.8)"
   ]
  },
  {
   "cell_type": "code",
   "execution_count": 12,
   "metadata": {},
   "outputs": [
    {
     "data": {
      "image/png": "[encoded data removed]",
      "text/plain": [
       "<Figure size 432x288 with 1 Axes>"
      ]
     },
     "metadata": {
      "needs_background": "light"
     },
     "output_type": "display_data"
    }
   ],
   "source": [
    "def fx(x,L):\n",
    "    return L*np.exp(-L*x)/(1-np.exp(-np.pi*L)) \n",
    "\n",
    "x= t1.markov_sampling(1000000,1,5,fx,0.8,3,0.01,0.1)\n",
    "\n",
    "t1.markov_sample_plotter(fx,x,1,5,0.8)\n",
    "\n",
    "# def f5(x):\n",
    "#     return "
   ]
  }
 ],
 "metadata": {
  "kernelspec": {
   "display_name": "Python 3.9.3 64-bit",
   "language": "python",
   "name": "python3"
  },
  "language_info": {
   "codemirror_mode": {
    "name": "ipython",
    "version": 3
   },
   "file_extension": ".py",
   "mimetype": "text/x-python",
   "name": "python",
   "nbconvert_exporter": "python",
   "pygments_lexer": "ipython3",
   "version": "3.9.3"
  },
  "orig_nbformat": 4,
  "vscode": {
   "interpreter": {
    "hash": "b7b49a38ea19a84790019c52b75c422fbbb0ad7042f247802e29ffad49c98c26"
   }
  }
 },
 "nbformat": 4,
 "nbformat_minor": 2
}

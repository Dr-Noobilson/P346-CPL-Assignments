{
 "cells": [
  {
   "cell_type": "code",
   "execution_count": 1,
   "metadata": {},
   "outputs": [],
   "source": [
    "import math\n",
    "import matplotlib.pyplot as plt\n",
    "import numpy as np\n",
    "\n",
    "import Library.Assign5 as t1"
   ]
  },
  {
   "cell_type": "markdown",
   "metadata": {},
   "source": [
    "Question 1: Use Midpoint, Trapezoidal and Simpson numerical integration scheme to evaluate the given integral and compare the result in tabular format for N = 10, 20 and 30."
   ]
  },
  {
   "cell_type": "code",
   "execution_count": 2,
   "metadata": {},
   "outputs": [
    {
     "name": "stdout",
     "output_type": "stream",
     "text": [
      "N      Midpoint       Trapezoidal    Simpson\n",
      "10     3.61897889     3.66703532     3.64986613\n",
      "20     3.61988003     3.64300711     3.6349977\n",
      "30     3.62004881     3.63526437     3.63005783\n"
     ]
    }
   ],
   "source": [
    "def f1(x):\n",
    "    return math.sqrt(1+1/x)\n",
    "\n",
    "print(\"N      Midpoint       Trapezoidal    Simpson\")\n",
    "t1.numInt(f1,1,4,10)\n",
    "t1.numInt(f1,1,4,20)\n",
    "t1.numInt(f1,1,4,30)"
   ]
  },
  {
   "cell_type": "markdown",
   "metadata": {},
   "source": [
    "Question 2: Use Monte Carlo integration to estimate the following integral"
   ]
  },
  {
   "cell_type": "code",
   "execution_count": 3,
   "metadata": {},
   "outputs": [
    {
     "name": "stdout",
     "output_type": "stream",
     "text": [
      "Fn: 0.5452398941383386 \n",
      "Error: 0.4453893151296822\n"
     ]
    },
    {
     "data": {
      "image/png": "[encoded data removed]",
      "text/plain": [
       "<Figure size 432x288 with 1 Axes>"
      ]
     },
     "metadata": {
      "needs_background": "light"
     },
     "output_type": "display_data"
    }
   ],
   "source": [
    "def f2(x):\n",
    "    return math.sin(x)**2\n",
    "\n",
    "p=t1.monteC(f2,-1,1,1000000,0.1) #For N = 10^6\n",
    "print(\"Fn:\",p[0],\"\\nError:\",p[1]) #Fn is the integral and Error is the standard deviation\n",
    "\n",
    "#Plotting the convergence of integral (for N=10 to N=10^6) to the actual value\n",
    "t1.mcPlot(f2,-1,1,100,0.54535128) "
   ]
  },
  {
   "cell_type": "markdown",
   "metadata": {},
   "source": [
    "Question 3: Find centre of mass of a 2m rod for a linear mass density x^2."
   ]
  },
  {
   "cell_type": "code",
   "execution_count": 4,
   "metadata": {},
   "outputs": [
    {
     "name": "stdout",
     "output_type": "stream",
     "text": [
      "Centre of mass: 1.49995 m\n"
     ]
    }
   ],
   "source": [
    "def fx(x):\n",
    "    return x**3\n",
    "\n",
    "def fy(x):\n",
    "    return x**2\n",
    "\n",
    "print(\"Centre of mass:\",round(t1.simp(fx,0,2,10000)/t1.simp(fy,0,2,10000),5),\"m\")"
   ]
  }
 ],
 "metadata": {
  "kernelspec": {
   "display_name": "Python 3.9.3 64-bit",
   "language": "python",
   "name": "python3"
  },
  "language_info": {
   "codemirror_mode": {
    "name": "ipython",
    "version": 3
   },
   "file_extension": ".py",
   "mimetype": "text/x-python",
   "name": "python",
   "nbconvert_exporter": "python",
   "pygments_lexer": "ipython3",
   "version": "3.9.3"
  },
  "orig_nbformat": 4,
  "vscode": {
   "interpreter": {
    "hash": "b7b49a38ea19a84790019c52b75c422fbbb0ad7042f247802e29ffad49c98c26"
   }
  }
 },
 "nbformat": 4,
 "nbformat_minor": 2
}

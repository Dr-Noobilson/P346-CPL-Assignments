{
 "cells": [
  {
   "cell_type": "code",
   "execution_count": 1,
   "id": "e872ed58-7a13-4fd9-9c51-2189e55aaaa5",
   "metadata": {},
   "outputs": [
    {
     "name": "stdout",
     "output_type": "stream",
     "text": [
      "['5\\n', '4\\n', '\\n', '20\\n', '10\\n', '15\\n', '\\n', '100\\n', '\\n', '2,-3,1.4\\n', '2.5,1,-2\\n', '-0.8,0,3.1\\n', '\\n', '0, -1, 1 \\n', '1.5, 0.5, -2 \\n', '3, 0, -2\\n', '\\n', '-2\\n', '0.5\\n', '1.5\\n', '\\n', '1,0,-1\\n', '\\n', '3\\n', '-2\\n', '1\\n', '2']\n"
     ]
    }
   ],
   "source": [
    "#Importing Library Module and storing input file content in inp list\n",
    "import Library.Assign1 as t1\n",
    "file= open('Input-assign1.txt')\n",
    "inp= file.readlines()"
   ]
  },
  {
   "cell_type": "code",
   "execution_count": 6,
   "id": "e4c27043",
   "metadata": {},
   "outputs": [
    {
     "name": "stdout",
     "output_type": "stream",
     "text": [
      "25\n",
      "24\n"
     ]
    }
   ],
   "source": [
    "#Question 1: To print sum of first n odd numbers and factorial of n\n",
    "print(t1.sum(int(inp[0])))    # n=5\n",
    "print(t1.fact(int(inp[1])))   # n=4"
   ]
  },
  {
   "cell_type": "code",
   "execution_count": 9,
   "id": "83f38b6b",
   "metadata": {},
   "outputs": [
    {
     "name": "stdout",
     "output_type": "stream",
     "text": [
      "285.0\n",
      "1.998046875\n",
      "3.167708217708217\n"
     ]
    }
   ],
   "source": [
    "#Question 2: Sum of N terms of an AP, GP and HP series for common difference 1.5 and common ratio 0.5\n",
    "print(t1.ap(int(inp[3])))\n",
    "print(t1.gp(int(inp[4])))\n",
    "print(t1.hp(int(inp[5])))"
   ]
  },
  {
   "cell_type": "code",
   "execution_count": 7,
   "id": "29040b43",
   "metadata": {},
   "outputs": [
    {
     "data": {
      "image/png": "[encoded data removed]",
      "text/plain": [
       "<Figure size 432x288 with 1 Axes>"
      ]
     },
     "metadata": {
      "needs_background": "light"
     },
     "output_type": "display_data"
    }
   ],
   "source": [
    "#Question 3: Sum of the series of general term: -(-0.5)^n (n=1,2,...). Plot the sum versus n.\n",
    "t1.series(int(inp[7]))"
   ]
  },
  {
   "cell_type": "code",
   "execution_count": 6,
   "id": "c0fb9ebc",
   "metadata": {},
   "outputs": [
    {
     "name": "stdout",
     "output_type": "stream",
     "text": [
      "-0.3  -3.5  5.2\n",
      "-4.5  -2.0  4.5\n",
      "9.3  0.8  -7.0\n",
      "\n",
      "-3.5\n",
      "\n",
      "1.0\n",
      "-5.75\n",
      "-9.0\n"
     ]
    }
   ],
   "source": [
    "#Question 4: Matrix Multiplication \n",
    "\n",
    "#Initializing Matrices\n",
    "A = [[float(n) for n in inp[i].split(',')] for i in range(9,12)]\n",
    "B = [[float(n) for n in inp[i].split(',')] for i in range(13,16)]\n",
    "C = [[float(n) for n in inp[i].split(',')] for i in range(17,20)]\n",
    "D = [[float(n) for n in inp[i].split(',')] for i in range(21,22)]\n",
    "\n",
    "t1.matpro(A,B)  # AB\n",
    "print()\n",
    "t1.matpro(D,C)  # D.C\n",
    "print()\n",
    "t1.matpro(B,C)  # BC"
   ]
  },
  {
   "cell_type": "code",
   "execution_count": 2,
   "id": "4d08aba0",
   "metadata": {},
   "outputs": [
    {
     "name": "stdout",
     "output_type": "stream",
     "text": [
      "4 + 0 i\n",
      "7 + 4 i\n",
      "3.606 \n",
      " 2.236\n"
     ]
    }
   ],
   "source": [
    "#Question 5: Class to find sum, product and modulus of two complex numbers\n",
    "\n",
    "# Taking Parameters (a,b,c,d) such that the complex numbers are a+ib and c+ib respectively\n",
    "p= t1.myComplex(int(inp[23]), int(inp[24]), int(inp[25]), int(inp[26]))\n",
    "\n",
    "p.sum()\n",
    "p.pro()\n",
    "p.mod() #Print modulus of both complex numbers"
   ]
  }
 ],
 "metadata": {
  "kernelspec": {
   "display_name": "Python 3.9.3 64-bit",
   "language": "python",
   "name": "python3"
  },
  "language_info": {
   "codemirror_mode": {
    "name": "ipython",
    "version": 3
   },
   "file_extension": ".py",
   "mimetype": "text/x-python",
   "name": "python",
   "nbconvert_exporter": "python",
   "pygments_lexer": "ipython3",
   "version": "3.9.3"
  },
  "vscode": {
   "interpreter": {
    "hash": "b7b49a38ea19a84790019c52b75c422fbbb0ad7042f247802e29ffad49c98c26"
   }
  }
 },
 "nbformat": 4,
 "nbformat_minor": 5
}

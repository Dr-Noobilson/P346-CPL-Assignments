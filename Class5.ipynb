{
 "cells": [
  {
   "cell_type": "code",
   "execution_count": 1,
   "metadata": {},
   "outputs": [],
   "source": [
    "import Library.Class5 as t1\n",
    "import math\n",
    "\n",
    "def fun1(x):\n",
    "    return x*math.exp(x)-2\n",
    "\n",
    "def fun2(x):\n",
    "    return x-2*math.cos(x)\n",
    "\n",
    "def fun3(x):\n",
    "    return 3*x+math.sin(x)-math.exp(x)\n",
    "\n",
    "def fun4(x):\n",
    "    return math.cos(x)-x**3\n",
    "\n",
    "\n",
    "def fun5(x):\n",
    "    return x**4-4*x**3-x**2+10*x"
   ]
  },
  {
   "cell_type": "code",
   "execution_count": 2,
   "metadata": {},
   "outputs": [
    {
     "name": "stdout",
     "output_type": "stream",
     "text": [
      "Root:  0.8526039123535156 , Value:  -6.908258602278394e-06\n",
      "Iteration: 17 \n",
      "\n",
      "Root:  1.0298675537109376 , Value:  2.7806631832660855e-06\n",
      "Iteration: 14 \n",
      "\n",
      "Root:  0.3604232788085937 , Value:  3.942477365237451e-06\n",
      "Iteration: 16 \n",
      "\n",
      "a= 0.8513338839039999 ,b= 0.9 \n",
      "Iterations: 6 \n",
      "\n",
      "Root:  0.85260816148 , Value:  1.155740123381932e-05\n",
      "Iteration: 14 \n",
      "\n"
     ]
    }
   ],
   "source": [
    "t1.Bisection(0.5,1,fun1,0)\n",
    "\n",
    "t1.Bisection(1,1.05,fun2,0)\n",
    "\n",
    "\n",
    "t1.Bisection(0.2,0.5,fun3,0)\n",
    "\n",
    "a,b=t1.Bracket(0.86,0.9,fun1,0)\n",
    "t1.Bisection(a,b,fun1,0)\n",
    "\n",
    "#t1.Bisect(0.5,1,fun1,0)\n",
    "\n",
    "#t1.Bisect(0.83,0.87,fun4,0)"
   ]
  },
  {
   "cell_type": "code",
   "execution_count": 3,
   "metadata": {},
   "outputs": [
    {
     "name": "stdout",
     "output_type": "stream",
     "text": [
      "Root:  0.8526048659627332 , Value:  0 \n",
      "\n",
      "Iteration: 7\n",
      "\n",
      "\n",
      "Root:  1.0298633146882776 , Value:  0 \n",
      "\n",
      "Iteration: 4\n",
      "\n",
      "\n",
      "Root:  0.36042273283548326 , Value:  0 \n",
      "\n",
      "Iteration: 5\n",
      "\n",
      "\n",
      "Root:  0.8654713482123454 , Value:  0 \n",
      "\n",
      "Iteration: 4\n",
      "\n",
      "\n",
      "Root:  6.078924172044954e-08 , Value:  0 \n",
      "\n",
      "Iteration: 6\n"
     ]
    }
   ],
   "source": [
    "t1.Regula(0.5,1,fun1,0.00001)\n",
    "print(\"\\n\")\n",
    "t1.Regula(1,1.35,fun2,0.00001)\n",
    "print(\"\\n\")\n",
    "t1.Regula(0.2,0.5,fun3,0.00001)\n",
    "print(\"\\n\")\n",
    "t1.Regula(0.83,0.91,fun4,0.00001)\n",
    "print(\"\\n\")\n",
    "t1.Regula(-0.5,3.7,fun5,0.00001)\n"
   ]
  },
  {
   "cell_type": "code",
   "execution_count": 4,
   "metadata": {},
   "outputs": [
    {
     "name": "stdout",
     "output_type": "stream",
     "text": [
      "(1.0298665303781327, 2)\n",
      "(0.8526055033652082, 2)\n"
     ]
    }
   ],
   "source": [
    "import Library.Class5 as t1\n",
    "import math\n",
    "\n",
    "def funx1(x):\n",
    "    return x*math.exp(x)+math.exp(x)\n",
    "\n",
    "def funx2(x):\n",
    "    return 1+2*math.sin(x)\n",
    "\n",
    "def fun2(x):\n",
    "    return x-2*math.cos(x)\n",
    "\n",
    "print(t1.NewtonR(1.05,fun2,funx2))\n",
    "print(t1.NewtonR(0.86,fun1,funx1))"
   ]
  },
  {
   "cell_type": "code",
   "execution_count": 1,
   "metadata": {},
   "outputs": [
    {
     "name": "stdout",
     "output_type": "stream",
     "text": [
      "-12\n",
      "[4, -3, -14, 1] \n",
      "\n",
      "[1, -3, -1, 3] \n",
      "\n",
      "Root: 3.0 , Iteration:  3 \n",
      "\n",
      "Root: 3.0 , Iteration:  3 \n",
      "\n",
      "Root: 1.0 , Iteration:  4 \n",
      "\n",
      "Root: -0.9999999999999999 , Iteration:  4 \n",
      "\n",
      "[3.0, 1.0, -0.9999999999999999, -2.0]\n"
     ]
    }
   ],
   "source": [
    "import Library.Class5 as t1\n",
    "import math\n",
    "\n",
    "k=[1,-1,-7,1,6]\n",
    "\n",
    "print(t1.Makefunc(k,2))\n",
    "print(t1.Diff(k),\"\\n\")\n",
    "print(t1.deflate(k,-2),\"\\n\")\n",
    "t1.Lag(2.6,k)\n",
    "\n",
    "\n",
    "k=[1,-1,-7,1,6]\n",
    "t1.Solve(3.6,k)\n"
   ]
  },
  {
   "cell_type": "code",
   "execution_count": 6,
   "metadata": {},
   "outputs": [
    {
     "name": "stdout",
     "output_type": "stream",
     "text": [
      "[1, 0, -7, -6]\n",
      "-1\n",
      "[1, -1, -6]\n",
      "-2\n",
      "[1, -3]\n",
      "3\n",
      "[1]\n"
     ]
    }
   ],
   "source": [
    "a=t1.deflate(k,t1.Lag(1,k))\n",
    "print(a)\n",
    "print(t1.Lag(-1,a))\n",
    "b=t1.deflate(a,t1.Lag(-1,a))\n",
    "print(b)\n",
    "print(t1.Lag(-2,b))\n",
    "l=t1.deflate(b,t1.Lag(-2,b))\n",
    "print(l)\n",
    "print(t1.Lag(3,l))\n",
    "m=t1.deflate(l,t1.Lag(3,l))\n",
    "print(m)"
   ]
  },
  {
   "cell_type": "code",
   "execution_count": 7,
   "metadata": {},
   "outputs": [
    {
     "name": "stdout",
     "output_type": "stream",
     "text": [
      "20.0\n",
      "4.168\n"
     ]
    }
   ],
   "source": [
    "import Library.Class5 as t1\n",
    "import math\n",
    "\n",
    "x=[2,3,5,8,12]\n",
    "y=[10,15,25,40,60]\n",
    "t1.Lagrange(x,y,4)\n",
    "\n",
    "a=[1951,1961,1971]\n",
    "b=[2.8,3.2,4.5]\n",
    "t1.Lagrange(a,b,1969)"
   ]
  },
  {
   "cell_type": "code",
   "execution_count": 1,
   "metadata": {},
   "outputs": [
    {
     "name": "stdout",
     "output_type": "stream",
     "text": [
      "0.457\n"
     ]
    }
   ],
   "source": [
    "print(\"{0:.3f}\".format(0.4567))"
   ]
  }
 ],
 "metadata": {
  "kernelspec": {
   "display_name": "Python 3 (ipykernel)",
   "language": "python",
   "name": "python3"
  },
  "language_info": {
   "codemirror_mode": {
    "name": "ipython",
    "version": 3
   },
   "file_extension": ".py",
   "mimetype": "text/x-python",
   "name": "python",
   "nbconvert_exporter": "python",
   "pygments_lexer": "ipython3",
   "version": "3.9.3"
  },
  "vscode": {
   "interpreter": {
    "hash": "b7b49a38ea19a84790019c52b75c422fbbb0ad7042f247802e29ffad49c98c26"
   }
  }
 },
 "nbformat": 4,
 "nbformat_minor": 4
}

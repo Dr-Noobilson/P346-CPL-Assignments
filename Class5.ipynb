{
 "cells": [
  {
   "cell_type": "code",
   "execution_count": 1,
   "metadata": {},
   "outputs": [],
   "source": [
    "import Library.Class5 as t1\n",
    "\n",
    "\n",
    "import math\n",
    "\n",
    "def fun1(x):\n",
    "    return x*math.exp(x)-2\n",
    "\n",
    "def fun2(x):\n",
    "    return x-2*math.cos(x)\n",
    "\n",
    "def fun3(x):\n",
    "    return 3*x+math.sin(x)-math.exp(x)\n",
    "\n",
    "def fun4(x):\n",
    "    return math.cos(x)-math.pow(x,3)\n",
    "\n",
    "\n",
    "def fun5(x):\n",
    "    return x**4-4*x**3-x**2+10*x"
   ]
  },
  {
   "cell_type": "code",
   "execution_count": 2,
   "metadata": {},
   "outputs": [
    {
     "name": "stdout",
     "output_type": "stream",
     "text": [
      "Root:  0.8526039123535156 , Value:  -6.908258602278394e-06 \n",
      "\n",
      "Iteration: 16\n",
      "Root:  1.0298675537109376 , Value:  2.7806631832660855e-06 \n",
      "\n",
      "Iteration: 13\n",
      "Root:  0.3604232788085937 , Value:  3.942477365237451e-06 \n",
      "\n",
      "Iteration: 15\n",
      "0.8513338839039999 0.9 6\n",
      "Root:  0.852606676308 , Value:  5.103194843592007e-06 \n",
      "\n",
      "Iteration: 14\n"
     ]
    }
   ],
   "source": [
    "t1.Bisection(0.5,1,fun1,0)\n",
    "\n",
    "t1.Bisection(1,1.05,fun2,0)\n",
    "\n",
    "\n",
    "t1.Bisection(0.2,0.5,fun3,0)\n",
    "\n",
    "a,b=t1.Bracket(0.86,0.9,fun1,0)\n",
    "t1.Bisection(a,b,fun1,0)\n",
    "\n",
    "\n",
    "#t1.Regula(0.5,1,fun1,0)\n",
    "\n",
    "\n",
    "\n",
    "#t1.Regula(0.2,0.5,fun3,0)\n",
    "\n"
   ]
  },
  {
   "cell_type": "code",
   "execution_count": 7,
   "metadata": {},
   "outputs": [
    {
     "name": "stdout",
     "output_type": "stream",
     "text": [
      "1.029751629507734 0\n",
      "1.0298660969959736 1\n",
      "1.0298665276957115 2\n",
      "1.0298665293161393 3\n",
      "1.0298665293222358 4\n",
      "1.0298665293222586 5\n",
      "1.0298665293222589 6\n",
      "None\n",
      "\n",
      "\n"
     ]
    }
   ],
   "source": [
    "print(t1.Regula(1,1.05,fun2,0))\n",
    "print(\"\\n\")\n",
    "#t1.Regula(0.2,0.5,fun3,0)\n",
    "#print(\"\\n\")\n",
    "#t1.Regula(0.83,0.91,fun4,0)\n",
    "#t1.Regula(-0.5,3.7,fun5,0)\n"
   ]
  },
  {
   "cell_type": "code",
   "execution_count": 17,
   "metadata": {},
   "outputs": [
    {
     "name": "stdout",
     "output_type": "stream",
     "text": [
      "(1.0298665293222589, 3)\n",
      "(0.8526055020137254, 3)\n"
     ]
    }
   ],
   "source": [
    "import Library.Class5 as t1\n",
    "import math\n",
    "\n",
    "def funx1(x):\n",
    "    return x*math.exp(x)+math.exp(x)\n",
    "\n",
    "def funx2(x):\n",
    "    return 1+2*math.sin(x)\n",
    "\n",
    "def fun2(x):\n",
    "    return x-2*math.cos(x)\n",
    "\n",
    "print(t1.NewtonR(1.05,fun2,funx2))\n",
    "print(t1.NewtonR(0.86,fun1,funx1))"
   ]
  },
  {
   "cell_type": "code",
   "execution_count": 2,
   "metadata": {},
   "outputs": [
    {
     "name": "stdout",
     "output_type": "stream",
     "text": [
      "-12\n",
      "[4, -3, -14, 1] \n",
      "\n",
      "[1, -3, -1, 3] \n",
      "\n",
      "1\n"
     ]
    }
   ],
   "source": [
    "import Library.Class5 as t1\n",
    "import math\n",
    "\n",
    "k=[1,-1,-7,1,6]\n",
    "\n",
    "print(t1.Makefunc(k,2))\n",
    "print(t1.Diff(k),\"\\n\")\n",
    "print(t1.deflate(k,-2),\"\\n\")\n",
    "print(t1.Lag(1,k))\n",
    "\n",
    "\n",
    "\n",
    "#print(t1.Solve(1,k))\n"
   ]
  },
  {
   "cell_type": "code",
   "execution_count": 6,
   "metadata": {},
   "outputs": [
    {
     "name": "stdout",
     "output_type": "stream",
     "text": [
      "[1, 0, -7, -6]\n",
      "-1\n",
      "[1, -1, -6]\n",
      "-2\n",
      "[1, -3]\n",
      "3\n",
      "[1]\n"
     ]
    }
   ],
   "source": [
    "a=t1.deflate(k,t1.Lag(1,k))\n",
    "print(a)\n",
    "print(t1.Lag(-1,a))\n",
    "b=t1.deflate(a,t1.Lag(-1,a))\n",
    "print(b)\n",
    "print(t1.Lag(-2,b))\n",
    "l=t1.deflate(b,t1.Lag(-2,b))\n",
    "print(l)\n",
    "print(t1.Lag(3,l))\n",
    "m=t1.deflate(l,t1.Lag(3,l))\n",
    "print(m)"
   ]
  },
  {
   "cell_type": "code",
   "execution_count": 5,
   "metadata": {},
   "outputs": [
    {
     "name": "stdout",
     "output_type": "stream",
     "text": [
      "20.0\n",
      "4.168\n"
     ]
    }
   ],
   "source": [
    "import Library.Class5 as t1\n",
    "import math\n",
    "\n",
    "x=[2,3,5,8,12]\n",
    "y=[10,15,25,40,60]\n",
    "t1.Lagrange(x,y,4)\n",
    "\n",
    "a=[1951,1961,1971]\n",
    "b=[2.8,3.2,4.5]\n",
    "t1.Lagrange(a,b,1969)"
   ]
  }
 ],
 "metadata": {
  "kernelspec": {
   "display_name": "Python 3 (ipykernel)",
   "language": "python",
   "name": "python3"
  },
  "language_info": {
   "codemirror_mode": {
    "name": "ipython",
    "version": 3
   },
   "file_extension": ".py",
   "mimetype": "text/x-python",
   "name": "python",
   "nbconvert_exporter": "python",
   "pygments_lexer": "ipython3",
   "version": "3.9.3"
  },
  "vscode": {
   "interpreter": {
    "hash": "b7b49a38ea19a84790019c52b75c422fbbb0ad7042f247802e29ffad49c98c26"
   }
  }
 },
 "nbformat": 4,
 "nbformat_minor": 4
}

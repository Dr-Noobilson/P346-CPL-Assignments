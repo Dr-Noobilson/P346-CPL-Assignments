{
 "cells": [
  {
   "cell_type": "code",
   "execution_count": 1,
   "metadata": {},
   "outputs": [],
   "source": [
    "import math\n",
    "import matplotlib.pyplot as plt\n",
    "import numpy as np\n",
    "import Library.Assign4 as t1\n",
    "from Library.Assign3 import chelk #Importing chelosky from Assign3.py module\n",
    "\n",
    "file= open('Input-assign4.txt')\n",
    "inp= file.readlines()  #Reading data from input file into array inp"
   ]
  },
  {
   "cell_type": "code",
   "execution_count": 2,
   "metadata": {},
   "outputs": [
    {
     "name": "stdout",
     "output_type": "stream",
     "text": [
      "a= 1.5 , b= 2.71 \n",
      "Iterations: 2 \n",
      "\n"
     ]
    }
   ],
   "source": [
    "def func(x):\n",
    "    return math.log(x/2)-math.sin(2.5*x)\n",
    "\n",
    "a,b=t1.Bracket(1.5,2.5,func,0,0.1) #Bracketing function func from inital guess [1.5,2.5]"
   ]
  },
  {
   "cell_type": "code",
   "execution_count": 6,
   "metadata": {},
   "outputs": [
    {
     "name": "stdout",
     "output_type": "stream",
     "text": [
      "Root:  1.8025 , Value:  0.9036347748451072 \n",
      "Iteration: 2 \n",
      "\n"
     ]
    }
   ],
   "source": [
    "t1.Bisection(a,b,func,6)"
   ]
  },
  {
   "cell_type": "code",
   "execution_count": 5,
   "metadata": {},
   "outputs": [],
   "source": [
    "#t1.Table1(a,b,func,6)"
   ]
  },
  {
   "cell_type": "code",
   "execution_count": null,
   "metadata": {},
   "outputs": [
    {
     "name": "stdout",
     "output_type": "stream",
     "text": [
      "Root: 0.9999999999999999 , Iteration:  4 \n",
      "\n",
      "Root: 2.0 , Iteration:  4 \n",
      "\n",
      "Root: -1.0 , Iteration:  4 \n",
      "\n",
      "Roots are: [0.9999999999999999, 2.0, -1.0, -2.0]\n"
     ]
    }
   ],
   "source": [
    "A=[1,0,-5,0,4]\n",
    "t1.LagSolve(A,0.5,6)"
   ]
  },
  {
   "cell_type": "code",
   "execution_count": null,
   "metadata": {},
   "outputs": [],
   "source": [
    "file= open('assign4fit.txt')\n",
    "inp= file.readlines()  #Reading data from input file into array inp\n",
    "\n",
    "A= [[float(inp[i].split('  ')[0])] for i in range(0,20)] \n",
    "B= [[float(inp[i].split('  ')[1])] for i in range(0,20)] "
   ]
  },
  {
   "cell_type": "code",
   "execution_count": null,
   "metadata": {},
   "outputs": [
    {
     "name": "stdout",
     "output_type": "stream",
     "text": [
      "\n",
      "Solution Matrix for the coefficients: \n",
      "0.5778626764539788\n",
      "4.6660687038839725\n",
      "-10.936440147100859\n",
      "7.5143737822427665\n"
     ]
    },
    {
     "data": {
      "image/png": "[encoded data removed]",
      "text/plain": [
       "<Figure size 432x288 with 1 Axes>"
      ]
     },
     "metadata": {
      "needs_background": "light"
     },
     "output_type": "display_data"
    }
   ],
   "source": [
    "#Fitting in y=a0 + a1(x) + a2(x^2) + a3(x^3)\n",
    "C,D=t1.Fit(A,B,4) #Fit function from Assign4.py module\n",
    "\n",
    "print(\"Solution Matrix for the coefficients: \")\n",
    "D=chelk(C,D,16) #Chelosky decomposition to solve C,D\n",
    "\n",
    "\n",
    "def my_formula(x,D): \n",
    "    k=0\n",
    "    for i in range(len(D)):\n",
    "        k+=D[i][0]*(x**i)\n",
    "    return k  \n",
    "\n",
    "t1.FitPlot(A,B,-0.05,1.05,my_formula,D)\n"
   ]
  }
 ],
 "metadata": {
  "kernelspec": {
   "display_name": "Python 3.9.3 64-bit",
   "language": "python",
   "name": "python3"
  },
  "language_info": {
   "codemirror_mode": {
    "name": "ipython",
    "version": 3
   },
   "file_extension": ".py",
   "mimetype": "text/x-python",
   "name": "python",
   "nbconvert_exporter": "python",
   "pygments_lexer": "ipython3",
   "version": "3.9.3"
  },
  "orig_nbformat": 4,
  "vscode": {
   "interpreter": {
    "hash": "b7b49a38ea19a84790019c52b75c422fbbb0ad7042f247802e29ffad49c98c26"
   }
  }
 },
 "nbformat": 4,
 "nbformat_minor": 2
}

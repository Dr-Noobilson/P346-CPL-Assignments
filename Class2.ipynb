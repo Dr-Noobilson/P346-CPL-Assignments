{
 "cells": [
  {
   "cell_type": "code",
   "execution_count": 1,
   "id": "e872ed58-7a13-4fd9-9c51-2189e55aaaa5",
   "metadata": {},
   "outputs": [
    {
     "name": "stdout",
     "output_type": "stream",
     "text": [
      "1.0  0.0  0.0  0.0  -0.998\n",
      "0.0  1.0  0.0  0.0  1.999\n",
      "0.0  0.0  1.0  0.0  1.0\n",
      "0.0  0.0  0.0  1.0  3.0\n",
      "\n"
     ]
    }
   ],
   "source": [
    "import Library.Class2 as Lib2\n",
    "import Library.Class3 as t1\n",
    "a =[[0, 1, 1, -2,-3 ], [1, 2,-1, 0, 2], [2, 4, 1, -3, -2], [1, -4, -7, -1, -19 ]]\n",
    "\n",
    "Lib2.Guass(a)"
   ]
  },
  {
   "cell_type": "code",
   "execution_count": 2,
   "id": "14d04784-7894-4b88-842f-f7a5e2e0a630",
   "metadata": {},
   "outputs": [
    {
     "name": "stdout",
     "output_type": "stream",
     "text": [
      "1.0  0.0  0.0  0.0  -1.537  -1.077  1.0  0.077\n",
      "0.0  1.0  0.0  0.0  0.538  0.744  -0.333  -0.077\n",
      "0.0  0.0  1.0  0.0  -0.461  -0.59  0.333  -0.077\n",
      "0.0  0.0  0.0  1.0  -0.461  0.077  -0.0  -0.077\n",
      "\n"
     ]
    }
   ],
   "source": [
    "a =[[0, 1, 1, -2, 1, 0, 0, 0 ], [1, 2,-1, 0, 0, 1, 0, 0], [2, 4, 1, -3, 0, 0 , 1, 0], [1, -4, -7, -1, 0, 0 ,0 , 1]]\n",
    "\n",
    "Lib2.Guass(a)"
   ]
  },
  {
   "cell_type": "code",
   "execution_count": 3,
   "id": "00268ca5",
   "metadata": {},
   "outputs": [
    {
     "name": "stdout",
     "output_type": "stream",
     "text": [
      "1.0  0.0  0.0  0.0  0.0  -0.716  2.543  2.45  0.973  -3.936\n",
      "0.0  1.0  0.0  0.0  0.0  -0.194  0.312  0.282  0.059  -0.299\n",
      "0.0  0.0  1.0  0.0  0.0  0.02  0.367  0.289  0.052  -0.295\n",
      "0.0  0.0  0.0  1.0  0.0  0.274  -0.132  0.129  -0.141  0.453\n",
      "0.0  0.0  0.0  0.0  1.0  0.791  -2.889  -2.701  -0.709  4.274\n",
      "\n",
      "None\n"
     ]
    }
   ],
   "source": [
    "A=[[0.2,-5,3,0.4,0],[-0.5,1,7,-2,0.3],[0.6,2,-4,3,0.1],[3,0.8,2,-0.4,3],[0.5,3,2,0.4,1]]\n",
    "t1.l(A)"
   ]
  }
 ],
 "metadata": {
  "kernelspec": {
   "display_name": "Python 3.9.3 64-bit",
   "language": "python",
   "name": "python3"
  },
  "language_info": {
   "codemirror_mode": {
    "name": "ipython",
    "version": 3
   },
   "file_extension": ".py",
   "mimetype": "text/x-python",
   "name": "python",
   "nbconvert_exporter": "python",
   "pygments_lexer": "ipython3",
   "version": "3.9.3"
  },
  "vscode": {
   "interpreter": {
    "hash": "b7b49a38ea19a84790019c52b75c422fbbb0ad7042f247802e29ffad49c98c26"
   }
  }
 },
 "nbformat": 4,
 "nbformat_minor": 5
}

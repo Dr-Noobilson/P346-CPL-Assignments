{
 "cells": [
  {
   "cell_type": "code",
   "execution_count": 1,
   "id": "e872ed58-7a13-4fd9-9c51-2189e55aaaa5",
   "metadata": {},
   "outputs": [
    {
     "name": "stdout",
     "output_type": "stream",
     "text": [
      "1.0  0.0  0.0  0.0  -1.0\n",
      "0.0  1.0  0.0  0.0  2.0\n",
      "0.0  0.0  1.0  0.0  1.0\n",
      "0.0  0.0  0.0  1.0  3.0\n",
      "\n"
     ]
    }
   ],
   "source": [
    "import Library.Class2 as Lib2\n",
    "a =[[0, 1, 1, -2,-3 ], [1, 2,-1, 0, 2], [2, 4, 1, -3, -2], [1, -4, -7, -1, -19 ]]\n",
    "\n",
    "Lib2.Guass(a)"
   ]
  },
  {
   "cell_type": "code",
   "execution_count": 2,
   "id": "14d04784-7894-4b88-842f-f7a5e2e0a630",
   "metadata": {},
   "outputs": [
    {
     "name": "stdout",
     "output_type": "stream",
     "text": [
      "1.0  0.0  0.0  0.0  -1.538  -1.078  1.0  0.077\n",
      "0.0  1.0  0.0  0.0  0.538  0.744  -0.333  -0.077\n",
      "0.0  0.0  1.0  0.0  -0.462  -0.59  0.333  -0.077\n",
      "0.0  0.0  0.0  1.0  -0.462  0.077  0.0  -0.077\n",
      "\n"
     ]
    }
   ],
   "source": [
    "a =[[0, 1, 1, -2, 1, 0, 0, 0 ], [1, 2,-1, 0, 0, 1, 0, 0], [2, 4, 1, -3, 0, 0 , 1, 0], [1, -4, -7, -1, 0, 0 ,0 , 1]]\n",
    "\n",
    "Lib2.Guass(a)"
   ]
  }
 ],
 "metadata": {
  "kernelspec": {
   "display_name": "Python 3.9.3 64-bit",
   "language": "python",
   "name": "python3"
  },
  "language_info": {
   "codemirror_mode": {
    "name": "ipython",
    "version": 3
   },
   "file_extension": ".py",
   "mimetype": "text/x-python",
   "name": "python",
   "nbconvert_exporter": "python",
   "pygments_lexer": "ipython3",
   "version": "3.9.3"
  },
  "vscode": {
   "interpreter": {
    "hash": "b7b49a38ea19a84790019c52b75c422fbbb0ad7042f247802e29ffad49c98c26"
   }
  }
 },
 "nbformat": 4,
 "nbformat_minor": 5
}
